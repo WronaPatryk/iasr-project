{
 "cells": [
  {
   "cell_type": "markdown",
   "id": "b53e6469",
   "metadata": {},
   "source": [
    "# Data Modeling\n",
    "\n",
    "- transform to spectrograms\n",
    "- machine learning models implementation\n",
    "- evaluation, comparison\n",
    "\n",
    "\n",
    "\n"
   ]
  },
  {
   "cell_type": "code",
   "execution_count": 3,
   "id": "b59ff414",
   "metadata": {},
   "outputs": [],
   "source": [
    "import pandas as pd\n",
    "import numpy as np"
   ]
  },
  {
   "cell_type": "markdown",
   "id": "e8b42265",
   "metadata": {},
   "source": [
    "### Loading data"
   ]
  },
  {
   "cell_type": "code",
   "execution_count": 4,
   "id": "49dd9fc5",
   "metadata": {},
   "outputs": [],
   "source": [
    "train_list = pd.read_csv(\"final_train_list.txt\", index_col = 0).iloc[:,0].values.tolist()\n",
    "test_list = pd.read_csv(\"final_test_list.txt\", index_col = 0).iloc[:,0].values.tolist()"
   ]
  },
  {
   "cell_type": "code",
   "execution_count": 5,
   "id": "abf39eff",
   "metadata": {},
   "outputs": [
    {
     "data": {
      "text/plain": [
       "['audio/down/881583a6_nohash_0.wav',\n",
       " 'audio/right/cd85758f_nohash_2.wav',\n",
       " 'audio/left/7be5a0f3_nohash_0.wav',\n",
       " 'audio/stop/c22d3f18_nohash_0.wav']"
      ]
     },
     "execution_count": 5,
     "metadata": {},
     "output_type": "execute_result"
    }
   ],
   "source": [
    "train_list[0:4]"
   ]
  },
  {
   "cell_type": "markdown",
   "id": "4adfd5e5",
   "metadata": {},
   "source": [
    "### Spectrograms"
   ]
  },
  {
   "cell_type": "code",
   "execution_count": null,
   "id": "76defe7c",
   "metadata": {},
   "outputs": [],
   "source": [
    "# robię ;)"
   ]
  },
  {
   "cell_type": "code",
   "execution_count": null,
   "id": "0912475f",
   "metadata": {},
   "outputs": [],
   "source": []
  },
  {
   "cell_type": "code",
   "execution_count": null,
   "id": "6a79935d",
   "metadata": {},
   "outputs": [],
   "source": []
  },
  {
   "cell_type": "code",
   "execution_count": null,
   "id": "e63e6c06",
   "metadata": {},
   "outputs": [],
   "source": []
  },
  {
   "cell_type": "code",
   "execution_count": null,
   "id": "fe3cb1f2",
   "metadata": {},
   "outputs": [],
   "source": []
  },
  {
   "cell_type": "code",
   "execution_count": null,
   "id": "ce7b922e",
   "metadata": {},
   "outputs": [],
   "source": []
  }
 ],
 "metadata": {
  "kernelspec": {
   "display_name": "Python 3 (ipykernel)",
   "language": "python",
   "name": "python3"
  },
  "language_info": {
   "codemirror_mode": {
    "name": "ipython",
    "version": 3
   },
   "file_extension": ".py",
   "mimetype": "text/x-python",
   "name": "python",
   "nbconvert_exporter": "python",
   "pygments_lexer": "ipython3",
   "version": "3.10.8"
  }
 },
 "nbformat": 4,
 "nbformat_minor": 5
}
