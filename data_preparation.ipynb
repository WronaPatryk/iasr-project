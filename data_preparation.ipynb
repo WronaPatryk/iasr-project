{
 "cells": [
  {
   "cell_type": "markdown",
   "id": "10781ad0",
   "metadata": {},
   "source": [
    "# Preparing the data set\n",
    "\n",
    "- filtering to chosen 10 audio classes, \n",
    "- train/test split"
   ]
  },
  {
   "cell_type": "code",
   "execution_count": 16,
   "id": "d1ab2c6e",
   "metadata": {},
   "outputs": [],
   "source": [
    "import pandas as pd\n",
    "import numpy as np"
   ]
  },
  {
   "cell_type": "code",
   "execution_count": 6,
   "id": "d43f367b",
   "metadata": {},
   "outputs": [],
   "source": []
  },
  {
   "cell_type": "code",
   "execution_count": 10,
   "id": "4731c2ed",
   "metadata": {},
   "outputs": [
    {
     "name": "stdout",
     "output_type": "stream",
     "text": [
      "(6798, 1)\n",
      "(6835, 1)\n"
     ]
    }
   ],
   "source": [
    "\n",
    "# vl - validation list from kaggle, used to load seach audio file (in our case it will be a training data)\n",
    "vl = pd.read_csv(\"validation_list.txt\", header = None)\n",
    "# tl - testing list from kaggle, used to load seach audio file\n",
    "tl = pd.read_csv(\"testing_list.txt\",header = None)\n",
    "print(vl.shape)\n",
    "print(tl.shape)"
   ]
  },
  {
   "cell_type": "code",
   "execution_count": 75,
   "id": "4906083f",
   "metadata": {},
   "outputs": [
    {
     "data": {
      "text/html": [
       "<div>\n",
       "<style scoped>\n",
       "    .dataframe tbody tr th:only-of-type {\n",
       "        vertical-align: middle;\n",
       "    }\n",
       "\n",
       "    .dataframe tbody tr th {\n",
       "        vertical-align: top;\n",
       "    }\n",
       "\n",
       "    .dataframe thead th {\n",
       "        text-align: right;\n",
       "    }\n",
       "</style>\n",
       "<table border=\"1\" class=\"dataframe\">\n",
       "  <thead>\n",
       "    <tr style=\"text-align: right;\">\n",
       "      <th></th>\n",
       "      <th>0</th>\n",
       "    </tr>\n",
       "  </thead>\n",
       "  <tbody>\n",
       "    <tr>\n",
       "      <th>0</th>\n",
       "      <td>bed/026290a7_nohash_0.wav</td>\n",
       "    </tr>\n",
       "    <tr>\n",
       "      <th>1</th>\n",
       "      <td>bed/060cd039_nohash_0.wav</td>\n",
       "    </tr>\n",
       "    <tr>\n",
       "      <th>2</th>\n",
       "      <td>bed/060cd039_nohash_1.wav</td>\n",
       "    </tr>\n",
       "    <tr>\n",
       "      <th>3</th>\n",
       "      <td>bed/099d52ad_nohash_0.wav</td>\n",
       "    </tr>\n",
       "  </tbody>\n",
       "</table>\n",
       "</div>"
      ],
      "text/plain": [
       "                           0\n",
       "0  bed/026290a7_nohash_0.wav\n",
       "1  bed/060cd039_nohash_0.wav\n",
       "2  bed/060cd039_nohash_1.wav\n",
       "3  bed/099d52ad_nohash_0.wav"
      ]
     },
     "execution_count": 75,
     "metadata": {},
     "output_type": "execute_result"
    }
   ],
   "source": [
    "vl.head(4)"
   ]
  },
  {
   "cell_type": "code",
   "execution_count": 39,
   "id": "0d9ca373",
   "metadata": {},
   "outputs": [],
   "source": []
  },
  {
   "cell_type": "code",
   "execution_count": 175,
   "id": "24689025",
   "metadata": {},
   "outputs": [],
   "source": [
    "# chosen audio files classes\n",
    "used_commands = ['yes', 'no', 'up', 'down', \n",
    "                 'left', 'right', 'on', 'off', \n",
    "                 'stop', 'go']\n",
    "\n",
    "\n",
    "# testing list\n",
    "res = tl.iloc[:, 0].map(lambda x: x.split(\"/\"))\n",
    "aux = pd.DataFrame(res)\n",
    "# kaggle's testing list becomes in our case the validation/testing list\n",
    "superLista_test = []\n",
    "\n",
    "for e in aux.values:\n",
    "    if e[0][0] in used_commands:\n",
    "        superLista_test.append('audio/' + e[0][0] + '/' + e[0][1])\n",
    "\n",
    "# training list\n",
    "res = vl.iloc[:, 0].map(lambda x: x.split(\"/\"))\n",
    "aux = pd.DataFrame(res)\n",
    "# kaggle's validation list becomes in our case the training list\n",
    "superLista_train = []\n",
    "\n",
    "for e in aux.values:\n",
    "    if e[0][0] in used_commands:\n",
    "        superLista_train.append('audio/' + e[0][0] + '/' + e[0][1])       \n",
    "        \n",
    "\n"
   ]
  },
  {
   "cell_type": "code",
   "execution_count": 77,
   "id": "33233303",
   "metadata": {},
   "outputs": [
    {
     "data": {
      "text/plain": [
       "['audio/down/099d52ad_nohash_0.wav',\n",
       " 'audio/down/099d52ad_nohash_1.wav',\n",
       " 'audio/down/099d52ad_nohash_2.wav',\n",
       " 'audio/down/099d52ad_nohash_3.wav']"
      ]
     },
     "execution_count": 77,
     "metadata": {},
     "output_type": "execute_result"
    }
   ],
   "source": [
    "superLista_train[0:4]"
   ]
  },
  {
   "cell_type": "markdown",
   "id": "d7c49d13",
   "metadata": {},
   "source": [
    "# 75-25 Train-Test split\n",
    "\n",
    "Initially out train-test is divided into 50-50 proportions. \n",
    "\n",
    "Half of the observations from the testing list will be moved to the training list."
   ]
  },
  {
   "cell_type": "code",
   "execution_count": 177,
   "id": "ca5ce973",
   "metadata": {},
   "outputs": [],
   "source": [
    "# RUN ONLY ONCE!\n",
    "\n",
    "# each second observation is moved from test to train\n",
    "counter = 0\n",
    "for el in superLista_test:\n",
    "    counter += 1\n",
    "    if counter % 2 == 0: \n",
    "        superLista_train.append(el) # first, add to train\n",
    "        \n",
    "        \n",
    "counter = 0\n",
    "for el in superLista_test:\n",
    "    counter += 1\n",
    "    if counter % 2 == 0: \n",
    "        superLista_test.remove(el) # then, remove from test\n",
    "        \n",
    "\n",
    "\n"
   ]
  },
  {
   "cell_type": "code",
   "execution_count": 179,
   "id": "b547df4f",
   "metadata": {},
   "outputs": [
    {
     "name": "stdout",
     "output_type": "stream",
     "text": [
      "3860\n",
      "1711\n"
     ]
    }
   ],
   "source": [
    "print(len(superLista_train))\n",
    "print(len(superLista_test))"
   ]
  },
  {
   "cell_type": "code",
   "execution_count": 214,
   "id": "51e9d952",
   "metadata": {},
   "outputs": [],
   "source": [
    "import random\n",
    "\n",
    "# random shuffling of the each list after train-test 75-25 split\n",
    "random.shuffle(superLista_train)\n",
    "random.shuffle(superLista_test)"
   ]
  },
  {
   "cell_type": "code",
   "execution_count": null,
   "id": "b1186995",
   "metadata": {},
   "outputs": [],
   "source": []
  },
  {
   "cell_type": "markdown",
   "id": "27822054",
   "metadata": {},
   "source": [
    "# Saving of the chosen files"
   ]
  },
  {
   "cell_type": "code",
   "execution_count": 215,
   "id": "06ad00e7",
   "metadata": {},
   "outputs": [],
   "source": [
    "\n",
    "pd.DataFrame(superLista_train).to_csv(\"final_train_list.txt\")\n",
    "    \n",
    "pd.DataFrame(superLista_test).to_csv(\"final_test_list.txt\")"
   ]
  },
  {
   "cell_type": "code",
   "execution_count": 216,
   "id": "99b8c2c7",
   "metadata": {},
   "outputs": [],
   "source": [
    "train_list = pd.read_csv(\"final_train_list.txt\", index_col = 0).iloc[:,0].values.tolist()\n",
    "test_list = pd.read_csv(\"final_test_list.txt\", index_col = 0).iloc[:,0].values.tolist()"
   ]
  },
  {
   "cell_type": "code",
   "execution_count": 217,
   "id": "1d860c36",
   "metadata": {},
   "outputs": [
    {
     "data": {
      "text/plain": [
       "['audio/down/881583a6_nohash_0.wav',\n",
       " 'audio/right/cd85758f_nohash_2.wav',\n",
       " 'audio/left/7be5a0f3_nohash_0.wav',\n",
       " 'audio/stop/c22d3f18_nohash_0.wav']"
      ]
     },
     "execution_count": 217,
     "metadata": {},
     "output_type": "execute_result"
    }
   ],
   "source": [
    "train_list[0:4]"
   ]
  },
  {
   "cell_type": "code",
   "execution_count": 218,
   "id": "d45c689f",
   "metadata": {},
   "outputs": [
    {
     "data": {
      "text/plain": [
       "['audio/no/5b1db3ee_nohash_0.wav',\n",
       " 'audio/up/1fe4c891_nohash_0.wav',\n",
       " 'audio/off/d0faf7e4_nohash_3.wav',\n",
       " 'audio/go/cd85758f_nohash_4.wav']"
      ]
     },
     "execution_count": 218,
     "metadata": {},
     "output_type": "execute_result"
    }
   ],
   "source": [
    "test_list[0:4]"
   ]
  }
 ],
 "metadata": {
  "kernelspec": {
   "display_name": "Python 3 (ipykernel)",
   "language": "python",
   "name": "python3"
  },
  "language_info": {
   "codemirror_mode": {
    "name": "ipython",
    "version": 3
   },
   "file_extension": ".py",
   "mimetype": "text/x-python",
   "name": "python",
   "nbconvert_exporter": "python",
   "pygments_lexer": "ipython3",
   "version": "3.10.8"
  }
 },
 "nbformat": 4,
 "nbformat_minor": 5
}
