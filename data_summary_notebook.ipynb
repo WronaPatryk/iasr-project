{
 "cells": [
  {
   "cell_type": "code",
   "execution_count": 3,
   "id": "d1ab2c6e",
   "metadata": {},
   "outputs": [],
   "source": [
    "import pandas as pd"
   ]
  },
  {
   "cell_type": "code",
   "execution_count": 13,
   "id": "d43f367b",
   "metadata": {},
   "outputs": [],
   "source": [
    "vl = pd.read_csv(\"validation_list.txt\", header = None)"
   ]
  },
  {
   "cell_type": "code",
   "execution_count": 14,
   "id": "4731c2ed",
   "metadata": {},
   "outputs": [],
   "source": [
    "tl = pd.read_csv(\"testing_list.txt\",header = None)"
   ]
  },
  {
   "cell_type": "code",
   "execution_count": 15,
   "id": "8b4a9bad",
   "metadata": {},
   "outputs": [
    {
     "data": {
      "text/plain": [
       "(6798, 1)"
      ]
     },
     "execution_count": 15,
     "metadata": {},
     "output_type": "execute_result"
    }
   ],
   "source": [
    "vl.shape"
   ]
  },
  {
   "cell_type": "code",
   "execution_count": 16,
   "id": "19838237",
   "metadata": {},
   "outputs": [
    {
     "data": {
      "text/plain": [
       "(6835, 1)"
      ]
     },
     "execution_count": 16,
     "metadata": {},
     "output_type": "execute_result"
    }
   ],
   "source": [
    "tl.shape"
   ]
  },
  {
   "cell_type": "code",
   "execution_count": 31,
   "id": "4076a348",
   "metadata": {},
   "outputs": [
    {
     "data": {
      "text/plain": [
       "13633"
      ]
     },
     "execution_count": 31,
     "metadata": {},
     "output_type": "execute_result"
    }
   ],
   "source": [
    "tl.shape[0] + vl.shape[0]"
   ]
  },
  {
   "cell_type": "code",
   "execution_count": 17,
   "id": "4906083f",
   "metadata": {},
   "outputs": [
    {
     "data": {
      "text/html": [
       "<div>\n",
       "<style scoped>\n",
       "    .dataframe tbody tr th:only-of-type {\n",
       "        vertical-align: middle;\n",
       "    }\n",
       "\n",
       "    .dataframe tbody tr th {\n",
       "        vertical-align: top;\n",
       "    }\n",
       "\n",
       "    .dataframe thead th {\n",
       "        text-align: right;\n",
       "    }\n",
       "</style>\n",
       "<table border=\"1\" class=\"dataframe\">\n",
       "  <thead>\n",
       "    <tr style=\"text-align: right;\">\n",
       "      <th></th>\n",
       "      <th>0</th>\n",
       "    </tr>\n",
       "  </thead>\n",
       "  <tbody>\n",
       "    <tr>\n",
       "      <th>0</th>\n",
       "      <td>bed/0c40e715_nohash_0.wav</td>\n",
       "    </tr>\n",
       "    <tr>\n",
       "      <th>1</th>\n",
       "      <td>bed/0ea0e2f4_nohash_0.wav</td>\n",
       "    </tr>\n",
       "    <tr>\n",
       "      <th>2</th>\n",
       "      <td>bed/0ea0e2f4_nohash_1.wav</td>\n",
       "    </tr>\n",
       "    <tr>\n",
       "      <th>3</th>\n",
       "      <td>bed/105a0eea_nohash_0.wav</td>\n",
       "    </tr>\n",
       "    <tr>\n",
       "      <th>4</th>\n",
       "      <td>bed/1528225c_nohash_0.wav</td>\n",
       "    </tr>\n",
       "    <tr>\n",
       "      <th>...</th>\n",
       "      <td>...</td>\n",
       "    </tr>\n",
       "    <tr>\n",
       "      <th>6830</th>\n",
       "      <td>zero/fce96bac_nohash_1.wav</td>\n",
       "    </tr>\n",
       "    <tr>\n",
       "      <th>6831</th>\n",
       "      <td>zero/fe1916ba_nohash_0.wav</td>\n",
       "    </tr>\n",
       "    <tr>\n",
       "      <th>6832</th>\n",
       "      <td>zero/ffa76c4a_nohash_0.wav</td>\n",
       "    </tr>\n",
       "    <tr>\n",
       "      <th>6833</th>\n",
       "      <td>zero/ffb86d3c_nohash_0.wav</td>\n",
       "    </tr>\n",
       "    <tr>\n",
       "      <th>6834</th>\n",
       "      <td>zero/ffb86d3c_nohash_1.wav</td>\n",
       "    </tr>\n",
       "  </tbody>\n",
       "</table>\n",
       "<p>6835 rows × 1 columns</p>\n",
       "</div>"
      ],
      "text/plain": [
       "                               0\n",
       "0      bed/0c40e715_nohash_0.wav\n",
       "1      bed/0ea0e2f4_nohash_0.wav\n",
       "2      bed/0ea0e2f4_nohash_1.wav\n",
       "3      bed/105a0eea_nohash_0.wav\n",
       "4      bed/1528225c_nohash_0.wav\n",
       "...                          ...\n",
       "6830  zero/fce96bac_nohash_1.wav\n",
       "6831  zero/fe1916ba_nohash_0.wav\n",
       "6832  zero/ffa76c4a_nohash_0.wav\n",
       "6833  zero/ffb86d3c_nohash_0.wav\n",
       "6834  zero/ffb86d3c_nohash_1.wav\n",
       "\n",
       "[6835 rows x 1 columns]"
      ]
     },
     "execution_count": 17,
     "metadata": {},
     "output_type": "execute_result"
    }
   ],
   "source": [
    "tl"
   ]
  },
  {
   "cell_type": "code",
   "execution_count": null,
   "id": "4ca76111",
   "metadata": {},
   "outputs": [],
   "source": []
  },
  {
   "cell_type": "code",
   "execution_count": 25,
   "id": "d00c9308",
   "metadata": {},
   "outputs": [],
   "source": [
    "used_commands = ['yes', 'no', 'up', 'down', 'left', 'right', 'on', 'off', 'stop', 'go']"
   ]
  },
  {
   "cell_type": "code",
   "execution_count": 27,
   "id": "c0a0b112",
   "metadata": {},
   "outputs": [
    {
     "data": {
      "text/plain": [
       "2567"
      ]
     },
     "execution_count": 27,
     "metadata": {},
     "output_type": "execute_result"
    }
   ],
   "source": [
    "tl.iloc[:, 0].map(lambda x: x.split(\"/\")).map(lambda x: x[0] in used_commands).sum()"
   ]
  },
  {
   "cell_type": "code",
   "execution_count": 28,
   "id": "3370c305",
   "metadata": {},
   "outputs": [
    {
     "data": {
      "text/plain": [
       "2577"
      ]
     },
     "execution_count": 28,
     "metadata": {},
     "output_type": "execute_result"
    }
   ],
   "source": [
    "vl.iloc[:, 0].map(lambda x: x.split(\"/\")).map(lambda x: x[0] in used_commands).sum()"
   ]
  },
  {
   "cell_type": "code",
   "execution_count": 29,
   "id": "a84d0a73",
   "metadata": {},
   "outputs": [],
   "source": [
    "n_obs = vl.iloc[:, 0].map(lambda x: x.split(\"/\")).map(lambda x: x[0] in used_commands).sum() + tl.iloc[:, 0].map(lambda x: x.split(\"/\")).map(lambda x: x[0] in used_commands).sum()"
   ]
  },
  {
   "cell_type": "code",
   "execution_count": 30,
   "id": "47bcb69d",
   "metadata": {},
   "outputs": [
    {
     "data": {
      "text/plain": [
       "5144"
      ]
     },
     "execution_count": 30,
     "metadata": {},
     "output_type": "execute_result"
    }
   ],
   "source": [
    "n_obs"
   ]
  },
  {
   "cell_type": "markdown",
   "id": "54c46d0f",
   "metadata": {},
   "source": [
    "# Conclusions\n",
    "\n",
    "There are 5144 audio files concerning selected 10 voice commands. It is already split in ~50-50 train-test split, but the training dataset will be bigger ( ~75\\% of the labelled data)."
   ]
  },
  {
   "cell_type": "code",
   "execution_count": null,
   "id": "fbf861f9",
   "metadata": {},
   "outputs": [],
   "source": []
  },
  {
   "cell_type": "code",
   "execution_count": null,
   "id": "7287c1b3",
   "metadata": {},
   "outputs": [],
   "source": []
  }
 ],
 "metadata": {
  "kernelspec": {
   "display_name": "Python 3 (ipykernel)",
   "language": "python",
   "name": "python3"
  },
  "language_info": {
   "codemirror_mode": {
    "name": "ipython",
    "version": 3
   },
   "file_extension": ".py",
   "mimetype": "text/x-python",
   "name": "python",
   "nbconvert_exporter": "python",
   "pygments_lexer": "ipython3",
   "version": "3.10.8"
  }
 },
 "nbformat": 4,
 "nbformat_minor": 5
}
