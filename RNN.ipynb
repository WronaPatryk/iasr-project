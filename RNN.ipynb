{
 "cells": [
  {
   "cell_type": "markdown",
   "id": "92cadd0c",
   "metadata": {},
   "source": [
    "# Training of Recurrenct Neural Network (RNN) model on spectrograms"
   ]
  },
  {
   "cell_type": "code",
   "execution_count": 19,
   "id": "b21f71bf",
   "metadata": {},
   "outputs": [],
   "source": [
    "import numpy as np\n",
    "import pandas as pd\n",
    "\n",
    "from scipy import signal\n",
    "from scipy.io import wavfile\n",
    "import matplotlib.pyplot as plt\n",
    "\n",
    "from PIL import Image\n",
    "import matplotlib\n",
    "import random"
   ]
  },
  {
   "cell_type": "code",
   "execution_count": 3,
   "id": "7b23110d",
   "metadata": {},
   "outputs": [
    {
     "data": {
      "text/plain": [
       "<function tensorflow.python.eager.polymorphic_function.polymorphic_function.run_functions_eagerly(run_eagerly)>"
      ]
     },
     "execution_count": 3,
     "metadata": {},
     "output_type": "execute_result"
    }
   ],
   "source": [
    "import tensorflow as tf\n",
    "from tensorflow import keras\n",
    "from keras import layers\n",
    "\n",
    "\n",
    "tf.config.run_functions_eagerly"
   ]
  },
  {
   "cell_type": "code",
   "execution_count": 55,
   "id": "08712470",
   "metadata": {},
   "outputs": [],
   "source": [
    "# Loading of datasets\n",
    "\n",
    "spectr_train_list = pd.read_csv(\"spectr_train_list.txt\", index_col = 0).iloc[:,0].values.tolist()\n",
    "spectr_test_list = pd.read_csv(\"spectr_test_list.txt\", index_col = 0).iloc[:,0].values.tolist()\n",
    "\n",
    "# labels_train, labels_test\n",
    "# spectrograms_train, spectrograms_test\n",
    "\n",
    "labels_train = []\n",
    "spectrograms_train = []\n",
    "\n",
    "for path in spectr_train_list:\n",
    "    labels_train.append(path.split(\"/\")[1])\n",
    "    \n",
    "    \n",
    "    rgb = matplotlib.image.imread(path)\n",
    "    gray = np.mean(rgb, -1)\n",
    "    spectrogram = (255*(gray - np.min(gray))/np.ptp(gray)).astype(int)  # [0, 255] scaled\n",
    "\n",
    "    spectrograms_train.append(spectrogram)\n",
    "\n",
    "labels_test = []\n",
    "spectrograms_test = []\n",
    "\n",
    "for path in spectr_test_list:\n",
    "    labels_test.append(path.split(\"/\")[1])\n",
    "    \n",
    "    rgb = matplotlib.image.imread(path)\n",
    "    gray = np.mean(rgb, -1)\n",
    "    spectrogram = (255*(gray - np.min(gray))/np.ptp(gray)).astype(int)  # [0, 255] scaled\n",
    "    \n",
    "    spectrograms_test.append(spectrogram)\n"
   ]
  },
  {
   "cell_type": "code",
   "execution_count": 58,
   "id": "d8f3543a",
   "metadata": {},
   "outputs": [
    {
     "data": {
      "text/plain": [
       "['no', 'up', 'off', 'go', 'yes', 'stop', 'down', 'on', 'down']"
      ]
     },
     "execution_count": 58,
     "metadata": {},
     "output_type": "execute_result"
    }
   ],
   "source": [
    "labels_test[0:9]"
   ]
  },
  {
   "cell_type": "code",
   "execution_count": 66,
   "id": "10c1373c",
   "metadata": {},
   "outputs": [],
   "source": [
    "# preparing datasets for models\n",
    "\n",
    "dummies = pd.get_dummies(labels_train)\n",
    "y_train = tf.one_hot(dummies,10)\n",
    "\n",
    "dataset_train = tf.data.Dataset.from_tensor_slices((spectrograms_train, dummies)).shuffle(200).batch(8)\n",
    "\n",
    "####################\n",
    "\n",
    "dummies2 = pd.get_dummies(labels_test)\n",
    "y_test = tf.one_hot(dummies2, 10)\n",
    "\n",
    "dataset_test = tf.data.Dataset.from_tensor_slices((spectrograms_test, dummies2)).batch(8)\n",
    "\n",
    "#####################\n",
    "\n",
    "early_stop = tf.keras.callbacks.EarlyStopping(monitor='val_accuracy',\n",
    "                           mode='min',\n",
    "                           verbose=1,\n",
    "                           patience=4)\n"
   ]
  },
  {
   "cell_type": "markdown",
   "id": "45559272",
   "metadata": {},
   "source": [
    "# Model architecture"
   ]
  },
  {
   "cell_type": "code",
   "execution_count": 62,
   "id": "53510124",
   "metadata": {},
   "outputs": [],
   "source": [
    "# model - LSTM\n",
    "def get_model_RNN():\n",
    "  model = tf.keras.models.Sequential()\n",
    "\n",
    "  model.add(tf.keras.layers.LSTM(units = 64, return_sequences = True, input_shape=[64,64]))\n",
    "  model.add(tf.keras.layers.LSTM(units = 64, return_sequences = True))\n",
    "\n",
    "  model.add(tf.keras.layers.Dense(units = 32))\n",
    "  model.add(tf.keras.layers.Flatten())\n",
    "  model.add(tf.keras.layers.Dense(units = 10, activation='softmax'))\n",
    "\n",
    "  model.compile(loss = 'categorical_crossentropy',\n",
    "             optimizer = keras.optimizers.Adam(learning_rate = 0.0001),\n",
    "             metrics = ['accuracy'])\n",
    "  return model"
   ]
  },
  {
   "cell_type": "code",
   "execution_count": null,
   "id": "7ce7f5ac",
   "metadata": {},
   "outputs": [],
   "source": []
  },
  {
   "cell_type": "code",
   "execution_count": null,
   "id": "3f9832fa",
   "metadata": {},
   "outputs": [],
   "source": []
  },
  {
   "cell_type": "code",
   "execution_count": null,
   "id": "2a2d5151",
   "metadata": {},
   "outputs": [],
   "source": []
  },
  {
   "cell_type": "markdown",
   "id": "d2e9639e",
   "metadata": {},
   "source": [
    "# Model training & ealuation"
   ]
  },
  {
   "cell_type": "code",
   "execution_count": null,
   "id": "db88829a",
   "metadata": {},
   "outputs": [],
   "source": []
  },
  {
   "cell_type": "code",
   "execution_count": null,
   "id": "847f1986",
   "metadata": {},
   "outputs": [],
   "source": []
  },
  {
   "cell_type": "code",
   "execution_count": 63,
   "id": "37bf6c15",
   "metadata": {},
   "outputs": [
    {
     "name": "stdout",
     "output_type": "stream",
     "text": [
      "Epoch 1/50\n",
      "483/483 [==============================] - 32s 55ms/step - loss: 2.2395 - accuracy: 0.1606 - val_loss: 2.1018 - val_accuracy: 0.2665\n",
      "Epoch 2/50\n",
      "483/483 [==============================] - 25s 52ms/step - loss: 1.9484 - accuracy: 0.3098 - val_loss: 1.7458 - val_accuracy: 0.4033\n",
      "Epoch 3/50\n",
      "483/483 [==============================] - 25s 51ms/step - loss: 1.6072 - accuracy: 0.4389 - val_loss: 1.4957 - val_accuracy: 0.4822\n",
      "Epoch 4/50\n",
      "483/483 [==============================] - 24s 50ms/step - loss: 1.3887 - accuracy: 0.5109 - val_loss: 1.3376 - val_accuracy: 0.5482\n",
      "Epoch 5/50\n",
      "483/483 [==============================] - 24s 50ms/step - loss: 1.2319 - accuracy: 0.5736 - val_loss: 1.2266 - val_accuracy: 0.5769\n",
      "Epoch 6/50\n",
      "483/483 [==============================] - 25s 51ms/step - loss: 1.1074 - accuracy: 0.6197 - val_loss: 1.1362 - val_accuracy: 0.6148\n",
      "Epoch 7/50\n",
      "483/483 [==============================] - 25s 51ms/step - loss: 0.9966 - accuracy: 0.6554 - val_loss: 1.0613 - val_accuracy: 0.6558\n",
      "Epoch 8/50\n",
      "483/483 [==============================] - 25s 51ms/step - loss: 0.8962 - accuracy: 0.6868 - val_loss: 1.0221 - val_accuracy: 0.6604\n",
      "Epoch 9/50\n",
      "483/483 [==============================] - 24s 51ms/step - loss: 0.8142 - accuracy: 0.7150 - val_loss: 0.9639 - val_accuracy: 0.6891\n",
      "Epoch 10/50\n",
      "483/483 [==============================] - 25s 51ms/step - loss: 0.7390 - accuracy: 0.7451 - val_loss: 0.9352 - val_accuracy: 0.6937\n",
      "Epoch 11/50\n",
      "483/483 [==============================] - 25s 52ms/step - loss: 0.6675 - accuracy: 0.7733 - val_loss: 0.9215 - val_accuracy: 0.6973\n",
      "Epoch 12/50\n",
      "483/483 [==============================] - 25s 52ms/step - loss: 0.6034 - accuracy: 0.7922 - val_loss: 0.8997 - val_accuracy: 0.7095\n",
      "Epoch 13/50\n",
      "483/483 [==============================] - 25s 51ms/step - loss: 0.5446 - accuracy: 0.8137 - val_loss: 0.8990 - val_accuracy: 0.7206\n",
      "Epoch 14/50\n",
      "483/483 [==============================] - 25s 53ms/step - loss: 0.4878 - accuracy: 0.8427 - val_loss: 0.8906 - val_accuracy: 0.7265\n",
      "Epoch 15/50\n",
      "483/483 [==============================] - 26s 53ms/step - loss: 0.4312 - accuracy: 0.8642 - val_loss: 0.8967 - val_accuracy: 0.7475\n",
      "Epoch 16/50\n",
      "483/483 [==============================] - 26s 53ms/step - loss: 0.3815 - accuracy: 0.8772 - val_loss: 0.9176 - val_accuracy: 0.7423\n",
      "Epoch 17/50\n",
      "483/483 [==============================] - 25s 52ms/step - loss: 0.3386 - accuracy: 0.8990 - val_loss: 0.9200 - val_accuracy: 0.7446\n",
      "Epoch 17: early stopping\n"
     ]
    },
    {
     "data": {
      "text/plain": [
       "<keras.callbacks.History at 0x1ef0e304310>"
      ]
     },
     "execution_count": 63,
     "metadata": {},
     "output_type": "execute_result"
    }
   ],
   "source": [
    "# model 1\n",
    "\n",
    "model_RNN = get_model_RNN()\n",
    "\n",
    "model_RNN.fit(dataset_train, epochs=50,  callbacks =[early_stop], validation_data=dataset_test)"
   ]
  },
  {
   "cell_type": "markdown",
   "id": "3914e24f",
   "metadata": {},
   "source": [
    "# Model 2 - more robust"
   ]
  },
  {
   "cell_type": "code",
   "execution_count": 64,
   "id": "3bd9a798",
   "metadata": {},
   "outputs": [],
   "source": [
    "# model - LSTM\n",
    "def get_model_RNN2():\n",
    "  model = tf.keras.models.Sequential()\n",
    "\n",
    "  model.add(tf.keras.layers.LSTM(units = 128, return_sequences = True, input_shape=[64,64]))\n",
    "  model.add(tf.keras.layers.LSTM(units = 128, return_sequences = True))\n",
    "\n",
    "  model.add(tf.keras.layers.Dense(units = 64))\n",
    "  model.add(tf.keras.layers.Flatten())\n",
    "  model.add(tf.keras.layers.Dense(units = 10, activation='softmax'))\n",
    "\n",
    "  model.compile(loss = 'categorical_crossentropy',\n",
    "             optimizer = keras.optimizers.Adam(learning_rate = 0.0001),\n",
    "             metrics = ['accuracy'])\n",
    "  return model"
   ]
  },
  {
   "cell_type": "code",
   "execution_count": 65,
   "id": "60c03e96",
   "metadata": {},
   "outputs": [
    {
     "name": "stdout",
     "output_type": "stream",
     "text": [
      "Epoch 1/50\n",
      "483/483 [==============================] - 49s 91ms/step - loss: 2.1186 - accuracy: 0.2306 - val_loss: 1.7894 - val_accuracy: 0.3892\n",
      "Epoch 2/50\n",
      "483/483 [==============================] - 43s 90ms/step - loss: 1.6071 - accuracy: 0.4293 - val_loss: 1.4027 - val_accuracy: 0.5237\n",
      "Epoch 3/50\n",
      "483/483 [==============================] - 45s 92ms/step - loss: 1.2763 - accuracy: 0.5459 - val_loss: 1.1683 - val_accuracy: 0.5891\n",
      "Epoch 4/50\n",
      "483/483 [==============================] - 45s 93ms/step - loss: 1.0340 - accuracy: 0.6324 - val_loss: 1.0353 - val_accuracy: 0.6452\n",
      "Epoch 5/50\n",
      "483/483 [==============================] - 44s 91ms/step - loss: 0.8422 - accuracy: 0.7000 - val_loss: 0.9232 - val_accuracy: 0.6739\n",
      "Epoch 6/50\n",
      "483/483 [==============================] - 45s 93ms/step - loss: 0.6917 - accuracy: 0.7518 - val_loss: 0.8720 - val_accuracy: 0.7089\n",
      "Epoch 7/50\n",
      "483/483 [==============================] - 44s 90ms/step - loss: 0.5552 - accuracy: 0.8070 - val_loss: 0.8621 - val_accuracy: 0.7247\n",
      "Epoch 8/50\n",
      "483/483 [==============================] - 44s 92ms/step - loss: 0.4317 - accuracy: 0.8573 - val_loss: 0.8546 - val_accuracy: 0.7428\n",
      "Epoch 9/50\n",
      "483/483 [==============================] - 45s 92ms/step - loss: 0.3329 - accuracy: 0.8907 - val_loss: 0.8647 - val_accuracy: 0.7563\n",
      "Epoch 10/50\n",
      "483/483 [==============================] - 44s 92ms/step - loss: 0.2471 - accuracy: 0.9280 - val_loss: 0.8718 - val_accuracy: 0.7680\n",
      "Epoch 11/50\n",
      "483/483 [==============================] - 44s 90ms/step - loss: 0.2024 - accuracy: 0.9373 - val_loss: 0.9084 - val_accuracy: 0.7820\n",
      "Epoch 11: early stopping\n"
     ]
    },
    {
     "data": {
      "text/plain": [
       "<keras.callbacks.History at 0x1ef1efad0f0>"
      ]
     },
     "execution_count": 65,
     "metadata": {},
     "output_type": "execute_result"
    }
   ],
   "source": [
    "# model 2\n",
    "\n",
    "model_RNN2 = get_model_RNN2()\n",
    "\n",
    "model_RNN2.fit(dataset_train, epochs=50,  callbacks =[early_stop], validation_data=dataset_test)"
   ]
  },
  {
   "cell_type": "code",
   "execution_count": 67,
   "id": "e5fd6269",
   "metadata": {},
   "outputs": [
    {
     "name": "stdout",
     "output_type": "stream",
     "text": [
      "Epoch 1/20\n",
      "483/483 [==============================] - 44s 91ms/step - loss: 0.1433 - accuracy: 0.9617 - val_loss: 0.9758 - val_accuracy: 0.7797\n",
      "Epoch 2/20\n",
      "483/483 [==============================] - 44s 90ms/step - loss: 0.0965 - accuracy: 0.9744 - val_loss: 1.1706 - val_accuracy: 0.7621\n",
      "Epoch 3/20\n",
      "483/483 [==============================] - 45s 93ms/step - loss: 0.0722 - accuracy: 0.9821 - val_loss: 1.1034 - val_accuracy: 0.7855\n",
      "Epoch 4/20\n",
      "483/483 [==============================] - 43s 89ms/step - loss: 0.0773 - accuracy: 0.9790 - val_loss: 1.0642 - val_accuracy: 0.7914\n",
      "Epoch 5/20\n",
      "483/483 [==============================] - 43s 89ms/step - loss: 0.0562 - accuracy: 0.9876 - val_loss: 1.1104 - val_accuracy: 0.7943\n",
      "Epoch 6/20\n",
      "483/483 [==============================] - 44s 90ms/step - loss: 0.0474 - accuracy: 0.9896 - val_loss: 1.1606 - val_accuracy: 0.7995\n",
      "Epoch 6: early stopping\n"
     ]
    },
    {
     "data": {
      "text/plain": [
       "<keras.callbacks.History at 0x1ef19e0e4d0>"
      ]
     },
     "execution_count": 67,
     "metadata": {},
     "output_type": "execute_result"
    }
   ],
   "source": [
    "model_RNN2.fit(dataset_train, epochs=20,  callbacks =[early_stop], validation_data=dataset_test)"
   ]
  },
  {
   "cell_type": "markdown",
   "id": "305e15f5",
   "metadata": {},
   "source": [
    "# Saving the model"
   ]
  },
  {
   "cell_type": "code",
   "execution_count": 68,
   "id": "9ca4b217",
   "metadata": {},
   "outputs": [],
   "source": [
    "model_RNN2.save('./model2.h5',save_format='h5')\n"
   ]
  },
  {
   "cell_type": "code",
   "execution_count": 69,
   "id": "c94fc29a",
   "metadata": {},
   "outputs": [],
   "source": [
    "model_RNN.save('./model.h5',save_format='h5')"
   ]
  },
  {
   "cell_type": "code",
   "execution_count": 70,
   "id": "cacfe0cd",
   "metadata": {},
   "outputs": [],
   "source": [
    "model = tf.keras.models.load_model('./model2.h5')"
   ]
  },
  {
   "cell_type": "markdown",
   "id": "eabffbf8",
   "metadata": {},
   "source": [
    "# Conclusions\n",
    "\n",
    "The first model obtained **74\\% accuracy** on validation data set, whereas the second model obtained almost **80\\% accuracy** with the same setting. \n",
    "\n",
    "Reminder: it was a 10 class classification problem with balanced classes.\n",
    "\n",
    "Possible ideas to train better version of the final model:\n",
    "\n",
    "- decreasing learning rate, as models started to overfit ( extended learning process)\n",
    "- use more layers and units within each layer ( more robust models)\n",
    "- prepare other version of spectrograms (better data means better model)"
   ]
  }
 ],
 "metadata": {
  "kernelspec": {
   "display_name": "Python 3 (ipykernel)",
   "language": "python",
   "name": "python3"
  },
  "language_info": {
   "codemirror_mode": {
    "name": "ipython",
    "version": 3
   },
   "file_extension": ".py",
   "mimetype": "text/x-python",
   "name": "python",
   "nbconvert_exporter": "python",
   "pygments_lexer": "ipython3",
   "version": "3.10.8"
  }
 },
 "nbformat": 4,
 "nbformat_minor": 5
}
