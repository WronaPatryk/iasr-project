{
 "cells": [
  {
   "cell_type": "markdown",
   "id": "92cadd0c",
   "metadata": {},
   "source": [
    "# Training of Recurrenct Neural Network (RNN) model on spectrograms"
   ]
  },
  {
   "cell_type": "code",
   "execution_count": 1,
   "id": "b21f71bf",
   "metadata": {},
   "outputs": [],
   "source": [
    "import numpy as np\n",
    "import pandas as pd\n",
    "\n",
    "from scipy import signal\n",
    "from scipy.io import wavfile\n",
    "import matplotlib.pyplot as plt\n",
    "\n",
    "from PIL import Image\n",
    "import matplotlib\n",
    "import random"
   ]
  },
  {
   "cell_type": "code",
   "execution_count": 2,
   "id": "7b23110d",
   "metadata": {},
   "outputs": [
    {
     "data": {
      "text/plain": [
       "<function tensorflow.python.eager.polymorphic_function.polymorphic_function.run_functions_eagerly(run_eagerly)>"
      ]
     },
     "execution_count": 2,
     "metadata": {},
     "output_type": "execute_result"
    }
   ],
   "source": [
    "import tensorflow as tf\n",
    "from tensorflow import keras\n",
    "from keras import layers\n",
    "\n",
    "\n",
    "tf.config.run_functions_eagerly"
   ]
  },
  {
   "cell_type": "code",
   "execution_count": 3,
   "id": "08712470",
   "metadata": {},
   "outputs": [],
   "source": [
    "# Loading of datasets\n",
    "\n",
    "spectr_train_list = pd.read_csv(\"spectr_train_list.txt\", index_col = 0).iloc[:,0].values.tolist()\n",
    "spectr_test_list = pd.read_csv(\"spectr_test_list.txt\", index_col = 0).iloc[:,0].values.tolist()\n",
    "\n",
    "# labels_train, labels_test\n",
    "# spectrograms_train, spectrograms_test\n",
    "\n",
    "labels_train = []\n",
    "spectrograms_train = []\n",
    "\n",
    "for path in spectr_train_list:\n",
    "    labels_train.append(path.split(\"/\")[1])\n",
    "    \n",
    "    \n",
    "    rgb = matplotlib.image.imread(path)\n",
    "    gray = np.mean(rgb, -1)\n",
    "    spectrogram = (255*(gray - np.min(gray))/np.ptp(gray)).astype(int)  # [0, 255] scaled\n",
    "\n",
    "    spectrograms_train.append(spectrogram)\n",
    "\n",
    "labels_test = []\n",
    "spectrograms_test = []\n",
    "\n",
    "for path in spectr_test_list:\n",
    "    labels_test.append(path.split(\"/\")[1])\n",
    "    \n",
    "    rgb = matplotlib.image.imread(path)\n",
    "    gray = np.mean(rgb, -1)\n",
    "    spectrogram = (255*(gray - np.min(gray))/np.ptp(gray)).astype(int)  # [0, 255] scaled\n",
    "    \n",
    "    spectrograms_test.append(spectrogram)\n"
   ]
  },
  {
   "cell_type": "code",
   "execution_count": 58,
   "id": "d8f3543a",
   "metadata": {},
   "outputs": [
    {
     "data": {
      "text/plain": [
       "['no', 'up', 'off', 'go', 'yes', 'stop', 'down', 'on', 'down']"
      ]
     },
     "execution_count": 58,
     "metadata": {},
     "output_type": "execute_result"
    }
   ],
   "source": [
    "labels_test[0:9]"
   ]
  },
  {
   "cell_type": "code",
   "execution_count": 4,
   "id": "10c1373c",
   "metadata": {},
   "outputs": [],
   "source": [
    "# preparing datasets for models\n",
    "\n",
    "dummies = pd.get_dummies(labels_train)\n",
    "y_train = tf.one_hot(dummies,10)\n",
    "\n",
    "dataset_train = tf.data.Dataset.from_tensor_slices((spectrograms_train, dummies)).shuffle(200).batch(8)\n",
    "\n",
    "####################\n",
    "\n",
    "dummies2 = pd.get_dummies(labels_test)\n",
    "y_test = tf.one_hot(dummies2, 10)\n",
    "\n",
    "dataset_test = tf.data.Dataset.from_tensor_slices((spectrograms_test, dummies2)).batch(8)\n",
    "\n",
    "#####################\n",
    "\n",
    "early_stop = tf.keras.callbacks.EarlyStopping(monitor='val_accuracy',\n",
    "                           mode='max',\n",
    "                           verbose=1,\n",
    "                           patience=4)\n"
   ]
  },
  {
   "cell_type": "markdown",
   "id": "45559272",
   "metadata": {},
   "source": [
    "# Model architecture"
   ]
  },
  {
   "cell_type": "code",
   "execution_count": 62,
   "id": "53510124",
   "metadata": {},
   "outputs": [],
   "source": [
    "# model - LSTM\n",
    "def get_model_RNN():\n",
    "  model = tf.keras.models.Sequential()\n",
    "\n",
    "  model.add(tf.keras.layers.LSTM(units = 64, return_sequences = True, input_shape=[64,64]))\n",
    "  model.add(tf.keras.layers.LSTM(units = 64, return_sequences = True))\n",
    "\n",
    "  model.add(tf.keras.layers.Dense(units = 32))\n",
    "  model.add(tf.keras.layers.Flatten())\n",
    "  model.add(tf.keras.layers.Dense(units = 10, activation='softmax'))\n",
    "\n",
    "  model.compile(loss = 'categorical_crossentropy',\n",
    "             optimizer = keras.optimizers.Adam(learning_rate = 0.0001),\n",
    "             metrics = ['accuracy'])\n",
    "  return model"
   ]
  },
  {
   "cell_type": "code",
   "execution_count": null,
   "id": "7ce7f5ac",
   "metadata": {},
   "outputs": [],
   "source": []
  },
  {
   "cell_type": "code",
   "execution_count": null,
   "id": "3f9832fa",
   "metadata": {},
   "outputs": [],
   "source": []
  },
  {
   "cell_type": "code",
   "execution_count": null,
   "id": "2a2d5151",
   "metadata": {},
   "outputs": [],
   "source": []
  },
  {
   "cell_type": "markdown",
   "id": "d2e9639e",
   "metadata": {},
   "source": [
    "# Model training & ealuation"
   ]
  },
  {
   "cell_type": "code",
   "execution_count": null,
   "id": "db88829a",
   "metadata": {},
   "outputs": [],
   "source": []
  },
  {
   "cell_type": "code",
   "execution_count": null,
   "id": "847f1986",
   "metadata": {},
   "outputs": [],
   "source": []
  },
  {
   "cell_type": "code",
   "execution_count": 63,
   "id": "37bf6c15",
   "metadata": {},
   "outputs": [
    {
     "name": "stdout",
     "output_type": "stream",
     "text": [
      "Epoch 1/50\n",
      "483/483 [==============================] - 32s 55ms/step - loss: 2.2395 - accuracy: 0.1606 - val_loss: 2.1018 - val_accuracy: 0.2665\n",
      "Epoch 2/50\n",
      "483/483 [==============================] - 25s 52ms/step - loss: 1.9484 - accuracy: 0.3098 - val_loss: 1.7458 - val_accuracy: 0.4033\n",
      "Epoch 3/50\n",
      "483/483 [==============================] - 25s 51ms/step - loss: 1.6072 - accuracy: 0.4389 - val_loss: 1.4957 - val_accuracy: 0.4822\n",
      "Epoch 4/50\n",
      "483/483 [==============================] - 24s 50ms/step - loss: 1.3887 - accuracy: 0.5109 - val_loss: 1.3376 - val_accuracy: 0.5482\n",
      "Epoch 5/50\n",
      "483/483 [==============================] - 24s 50ms/step - loss: 1.2319 - accuracy: 0.5736 - val_loss: 1.2266 - val_accuracy: 0.5769\n",
      "Epoch 6/50\n",
      "483/483 [==============================] - 25s 51ms/step - loss: 1.1074 - accuracy: 0.6197 - val_loss: 1.1362 - val_accuracy: 0.6148\n",
      "Epoch 7/50\n",
      "483/483 [==============================] - 25s 51ms/step - loss: 0.9966 - accuracy: 0.6554 - val_loss: 1.0613 - val_accuracy: 0.6558\n",
      "Epoch 8/50\n",
      "483/483 [==============================] - 25s 51ms/step - loss: 0.8962 - accuracy: 0.6868 - val_loss: 1.0221 - val_accuracy: 0.6604\n",
      "Epoch 9/50\n",
      "483/483 [==============================] - 24s 51ms/step - loss: 0.8142 - accuracy: 0.7150 - val_loss: 0.9639 - val_accuracy: 0.6891\n",
      "Epoch 10/50\n",
      "483/483 [==============================] - 25s 51ms/step - loss: 0.7390 - accuracy: 0.7451 - val_loss: 0.9352 - val_accuracy: 0.6937\n",
      "Epoch 11/50\n",
      "483/483 [==============================] - 25s 52ms/step - loss: 0.6675 - accuracy: 0.7733 - val_loss: 0.9215 - val_accuracy: 0.6973\n",
      "Epoch 12/50\n",
      "483/483 [==============================] - 25s 52ms/step - loss: 0.6034 - accuracy: 0.7922 - val_loss: 0.8997 - val_accuracy: 0.7095\n",
      "Epoch 13/50\n",
      "483/483 [==============================] - 25s 51ms/step - loss: 0.5446 - accuracy: 0.8137 - val_loss: 0.8990 - val_accuracy: 0.7206\n",
      "Epoch 14/50\n",
      "483/483 [==============================] - 25s 53ms/step - loss: 0.4878 - accuracy: 0.8427 - val_loss: 0.8906 - val_accuracy: 0.7265\n",
      "Epoch 15/50\n",
      "483/483 [==============================] - 26s 53ms/step - loss: 0.4312 - accuracy: 0.8642 - val_loss: 0.8967 - val_accuracy: 0.7475\n",
      "Epoch 16/50\n",
      "483/483 [==============================] - 26s 53ms/step - loss: 0.3815 - accuracy: 0.8772 - val_loss: 0.9176 - val_accuracy: 0.7423\n",
      "Epoch 17/50\n",
      "483/483 [==============================] - 25s 52ms/step - loss: 0.3386 - accuracy: 0.8990 - val_loss: 0.9200 - val_accuracy: 0.7446\n",
      "Epoch 17: early stopping\n"
     ]
    },
    {
     "data": {
      "text/plain": [
       "<keras.callbacks.History at 0x1ef0e304310>"
      ]
     },
     "execution_count": 63,
     "metadata": {},
     "output_type": "execute_result"
    }
   ],
   "source": [
    "# model 1\n",
    "\n",
    "model_RNN = get_model_RNN()\n",
    "\n",
    "model_RNN.fit(dataset_train, epochs=50,  callbacks =[early_stop], validation_data=dataset_test)"
   ]
  },
  {
   "cell_type": "markdown",
   "id": "3914e24f",
   "metadata": {},
   "source": [
    "# Model 2 - more robust"
   ]
  },
  {
   "cell_type": "code",
   "execution_count": 64,
   "id": "3bd9a798",
   "metadata": {},
   "outputs": [],
   "source": [
    "# model - LSTM\n",
    "def get_model_RNN2():\n",
    "  model = tf.keras.models.Sequential()\n",
    "\n",
    "  model.add(tf.keras.layers.LSTM(units = 128, return_sequences = True, input_shape=[64,64]))\n",
    "  model.add(tf.keras.layers.LSTM(units = 128, return_sequences = True))\n",
    "\n",
    "  model.add(tf.keras.layers.Dense(units = 64))\n",
    "  model.add(tf.keras.layers.Flatten())\n",
    "  model.add(tf.keras.layers.Dense(units = 10, activation='softmax'))\n",
    "\n",
    "  model.compile(loss = 'categorical_crossentropy',\n",
    "             optimizer = keras.optimizers.Adam(learning_rate = 0.0001),\n",
    "             metrics = ['accuracy'])\n",
    "  return model"
   ]
  },
  {
   "cell_type": "code",
   "execution_count": 65,
   "id": "60c03e96",
   "metadata": {},
   "outputs": [
    {
     "name": "stdout",
     "output_type": "stream",
     "text": [
      "Epoch 1/50\n",
      "483/483 [==============================] - 49s 91ms/step - loss: 2.1186 - accuracy: 0.2306 - val_loss: 1.7894 - val_accuracy: 0.3892\n",
      "Epoch 2/50\n",
      "483/483 [==============================] - 43s 90ms/step - loss: 1.6071 - accuracy: 0.4293 - val_loss: 1.4027 - val_accuracy: 0.5237\n",
      "Epoch 3/50\n",
      "483/483 [==============================] - 45s 92ms/step - loss: 1.2763 - accuracy: 0.5459 - val_loss: 1.1683 - val_accuracy: 0.5891\n",
      "Epoch 4/50\n",
      "483/483 [==============================] - 45s 93ms/step - loss: 1.0340 - accuracy: 0.6324 - val_loss: 1.0353 - val_accuracy: 0.6452\n",
      "Epoch 5/50\n",
      "483/483 [==============================] - 44s 91ms/step - loss: 0.8422 - accuracy: 0.7000 - val_loss: 0.9232 - val_accuracy: 0.6739\n",
      "Epoch 6/50\n",
      "483/483 [==============================] - 45s 93ms/step - loss: 0.6917 - accuracy: 0.7518 - val_loss: 0.8720 - val_accuracy: 0.7089\n",
      "Epoch 7/50\n",
      "483/483 [==============================] - 44s 90ms/step - loss: 0.5552 - accuracy: 0.8070 - val_loss: 0.8621 - val_accuracy: 0.7247\n",
      "Epoch 8/50\n",
      "483/483 [==============================] - 44s 92ms/step - loss: 0.4317 - accuracy: 0.8573 - val_loss: 0.8546 - val_accuracy: 0.7428\n",
      "Epoch 9/50\n",
      "483/483 [==============================] - 45s 92ms/step - loss: 0.3329 - accuracy: 0.8907 - val_loss: 0.8647 - val_accuracy: 0.7563\n",
      "Epoch 10/50\n",
      "483/483 [==============================] - 44s 92ms/step - loss: 0.2471 - accuracy: 0.9280 - val_loss: 0.8718 - val_accuracy: 0.7680\n",
      "Epoch 11/50\n",
      "483/483 [==============================] - 44s 90ms/step - loss: 0.2024 - accuracy: 0.9373 - val_loss: 0.9084 - val_accuracy: 0.7820\n",
      "Epoch 11: early stopping\n"
     ]
    },
    {
     "data": {
      "text/plain": [
       "<keras.callbacks.History at 0x1ef1efad0f0>"
      ]
     },
     "execution_count": 65,
     "metadata": {},
     "output_type": "execute_result"
    }
   ],
   "source": [
    "# model 2\n",
    "\n",
    "model_RNN2 = get_model_RNN2()\n",
    "\n",
    "model_RNN2.fit(dataset_train, epochs=50,  callbacks =[early_stop], validation_data=dataset_test)"
   ]
  },
  {
   "cell_type": "code",
   "execution_count": 67,
   "id": "e5fd6269",
   "metadata": {},
   "outputs": [
    {
     "name": "stdout",
     "output_type": "stream",
     "text": [
      "Epoch 1/20\n",
      "483/483 [==============================] - 44s 91ms/step - loss: 0.1433 - accuracy: 0.9617 - val_loss: 0.9758 - val_accuracy: 0.7797\n",
      "Epoch 2/20\n",
      "483/483 [==============================] - 44s 90ms/step - loss: 0.0965 - accuracy: 0.9744 - val_loss: 1.1706 - val_accuracy: 0.7621\n",
      "Epoch 3/20\n",
      "483/483 [==============================] - 45s 93ms/step - loss: 0.0722 - accuracy: 0.9821 - val_loss: 1.1034 - val_accuracy: 0.7855\n",
      "Epoch 4/20\n",
      "483/483 [==============================] - 43s 89ms/step - loss: 0.0773 - accuracy: 0.9790 - val_loss: 1.0642 - val_accuracy: 0.7914\n",
      "Epoch 5/20\n",
      "483/483 [==============================] - 43s 89ms/step - loss: 0.0562 - accuracy: 0.9876 - val_loss: 1.1104 - val_accuracy: 0.7943\n",
      "Epoch 6/20\n",
      "483/483 [==============================] - 44s 90ms/step - loss: 0.0474 - accuracy: 0.9896 - val_loss: 1.1606 - val_accuracy: 0.7995\n",
      "Epoch 6: early stopping\n"
     ]
    },
    {
     "data": {
      "text/plain": [
       "<keras.callbacks.History at 0x1ef19e0e4d0>"
      ]
     },
     "execution_count": 67,
     "metadata": {},
     "output_type": "execute_result"
    }
   ],
   "source": [
    "model_RNN2.fit(dataset_train, epochs=20,  callbacks =[early_stop], validation_data=dataset_test)"
   ]
  },
  {
   "cell_type": "markdown",
   "id": "305e15f5",
   "metadata": {},
   "source": [
    "# Saving the model"
   ]
  },
  {
   "cell_type": "code",
   "execution_count": 68,
   "id": "9ca4b217",
   "metadata": {},
   "outputs": [],
   "source": [
    "model_RNN2.save('./model2.h5',save_format='h5')\n"
   ]
  },
  {
   "cell_type": "code",
   "execution_count": 69,
   "id": "c94fc29a",
   "metadata": {},
   "outputs": [],
   "source": [
    "model_RNN.save('./model.h5',save_format='h5')"
   ]
  },
  {
   "cell_type": "code",
   "execution_count": 70,
   "id": "cacfe0cd",
   "metadata": {},
   "outputs": [],
   "source": [
    "model = tf.keras.models.load_model('./model2.h5')"
   ]
  },
  {
   "cell_type": "markdown",
   "id": "eabffbf8",
   "metadata": {},
   "source": [
    "# Conclusions - project prototype\n",
    "\n",
    "The first model obtained **74\\% accuracy** on validation data set, whereas the second model obtained almost **80\\% accuracy** with the same setting. \n",
    "\n",
    "Reminder: it was a 10 class classification problem with balanced classes.\n",
    "\n",
    "Possible ideas to train better version of the final model:\n",
    "\n",
    "- decreasing learning rate, as models started to overfit ( extended learning process)\n",
    "- use more layers and units within each layer ( more robust models)\n",
    "- prepare other version of spectrograms (better data means better model)"
   ]
  },
  {
   "cell_type": "markdown",
   "id": "e8df7ef8",
   "metadata": {},
   "source": [
    "# Another model architectures"
   ]
  },
  {
   "cell_type": "markdown",
   "id": "5939415c",
   "metadata": {},
   "source": [
    "#### Higher learning rate "
   ]
  },
  {
   "cell_type": "code",
   "execution_count": 6,
   "id": "7cdd33d5",
   "metadata": {},
   "outputs": [],
   "source": [
    "# model 3 - LSTM\n",
    "def get_model_RNN3():\n",
    "  model = tf.keras.models.Sequential()\n",
    "\n",
    "  model.add(tf.keras.layers.LSTM(units = 128, return_sequences = True, input_shape=[64,64]))\n",
    "  model.add(tf.keras.layers.LSTM(units = 128, return_sequences = True))\n",
    "\n",
    "  model.add(tf.keras.layers.Dense(units = 64))\n",
    "  model.add(tf.keras.layers.Flatten())\n",
    "  model.add(tf.keras.layers.Dense(units = 10, activation='softmax'))\n",
    "\n",
    "  model.compile(loss = 'categorical_crossentropy',\n",
    "             optimizer = keras.optimizers.Adam(learning_rate = 0.001),\n",
    "             metrics = ['accuracy'])\n",
    "  return model"
   ]
  },
  {
   "cell_type": "code",
   "execution_count": 7,
   "id": "2863cb35",
   "metadata": {},
   "outputs": [
    {
     "name": "stdout",
     "output_type": "stream",
     "text": [
      "Epoch 1/50\n",
      "483/483 [==============================] - 50s 91ms/step - loss: 1.6878 - accuracy: 0.3907 - val_loss: 1.1061 - val_accuracy: 0.6125\n",
      "Epoch 2/50\n",
      "483/483 [==============================] - 42s 87ms/step - loss: 1.0419 - accuracy: 0.6264 - val_loss: 0.8465 - val_accuracy: 0.6973\n",
      "Epoch 3/50\n",
      "483/483 [==============================] - 42s 88ms/step - loss: 0.8311 - accuracy: 0.6902 - val_loss: 0.7481 - val_accuracy: 0.7417\n",
      "Epoch 4/50\n",
      "483/483 [==============================] - 42s 87ms/step - loss: 0.6734 - accuracy: 0.7601 - val_loss: 0.7180 - val_accuracy: 0.7580\n",
      "Epoch 5/50\n",
      "483/483 [==============================] - 42s 87ms/step - loss: 0.5627 - accuracy: 0.7940 - val_loss: 0.7578 - val_accuracy: 0.7510\n",
      "Epoch 6/50\n",
      "483/483 [==============================] - 43s 88ms/step - loss: 0.4621 - accuracy: 0.8290 - val_loss: 0.6925 - val_accuracy: 0.7762\n",
      "Epoch 7/50\n",
      "483/483 [==============================] - 43s 88ms/step - loss: 0.3836 - accuracy: 0.8596 - val_loss: 0.6924 - val_accuracy: 0.7966\n",
      "Epoch 8/50\n",
      "483/483 [==============================] - 43s 89ms/step - loss: 0.3029 - accuracy: 0.8938 - val_loss: 0.7518 - val_accuracy: 0.8048\n",
      "Epoch 9/50\n",
      "483/483 [==============================] - 42s 88ms/step - loss: 0.2501 - accuracy: 0.9080 - val_loss: 0.8553 - val_accuracy: 0.7802\n",
      "Epoch 10/50\n",
      "483/483 [==============================] - 42s 88ms/step - loss: 0.2532 - accuracy: 0.9070 - val_loss: 0.7177 - val_accuracy: 0.8130\n",
      "Epoch 11/50\n",
      "483/483 [==============================] - 42s 88ms/step - loss: 0.1972 - accuracy: 0.9254 - val_loss: 0.9046 - val_accuracy: 0.7820\n",
      "Epoch 12/50\n",
      "483/483 [==============================] - 43s 89ms/step - loss: 0.1952 - accuracy: 0.9321 - val_loss: 0.8404 - val_accuracy: 0.8048\n",
      "Epoch 13/50\n",
      "483/483 [==============================] - 44s 91ms/step - loss: 0.1853 - accuracy: 0.9339 - val_loss: 0.8707 - val_accuracy: 0.7925\n",
      "Epoch 14/50\n",
      "483/483 [==============================] - 42s 88ms/step - loss: 0.1775 - accuracy: 0.9389 - val_loss: 0.7866 - val_accuracy: 0.8358\n",
      "Epoch 15/50\n",
      "483/483 [==============================] - 43s 88ms/step - loss: 0.1481 - accuracy: 0.9448 - val_loss: 0.8415 - val_accuracy: 0.8194\n",
      "Epoch 16/50\n",
      "483/483 [==============================] - 43s 88ms/step - loss: 0.0946 - accuracy: 0.9689 - val_loss: 0.9061 - val_accuracy: 0.8229\n",
      "Epoch 17/50\n",
      "483/483 [==============================] - 42s 87ms/step - loss: 0.1328 - accuracy: 0.9596 - val_loss: 0.8747 - val_accuracy: 0.8136\n",
      "Epoch 18/50\n",
      "483/483 [==============================] - 42s 88ms/step - loss: 0.1595 - accuracy: 0.9409 - val_loss: 0.9187 - val_accuracy: 0.8223\n",
      "Epoch 18: early stopping\n"
     ]
    },
    {
     "data": {
      "text/plain": [
       "<keras.callbacks.History at 0x1e82a5bbcd0>"
      ]
     },
     "execution_count": 7,
     "metadata": {},
     "output_type": "execute_result"
    }
   ],
   "source": [
    "# model 3 training\n",
    "\n",
    "model_RNN3 = get_model_RNN3()\n",
    "\n",
    "model_RNN3.fit(dataset_train, epochs=50,  callbacks =[early_stop], validation_data=dataset_test)"
   ]
  },
  {
   "cell_type": "markdown",
   "id": "1a2d4ed3",
   "metadata": {},
   "source": [
    "Accuracy: 83\\%"
   ]
  },
  {
   "cell_type": "code",
   "execution_count": 8,
   "id": "3a50bf0a",
   "metadata": {},
   "outputs": [],
   "source": [
    "# model 4 - LSTM with dropout\n",
    "def get_model_RNN4():\n",
    "  model = tf.keras.models.Sequential()\n",
    "\n",
    "  model.add(tf.keras.layers.LSTM(units = 128, return_sequences = True, input_shape=[64,64]))\n",
    "  model.add(tf.keras.layers.LSTM(units = 128, return_sequences = True))\n",
    "\n",
    "  model.add(tf.keras.layers.Dense(units = 64))\n",
    "    \n",
    "  model.add(tf.keras.layers.Dropout(.2))\n",
    "  model.add(tf.keras.layers.Flatten())\n",
    "  model.add(tf.keras.layers.Dense(units = 10, activation='softmax'))\n",
    "\n",
    "  model.compile(loss = 'categorical_crossentropy',\n",
    "             optimizer = keras.optimizers.Adam(learning_rate = 0.001),\n",
    "             metrics = ['accuracy'])\n",
    "  return model"
   ]
  },
  {
   "cell_type": "code",
   "execution_count": 9,
   "id": "288821d3",
   "metadata": {},
   "outputs": [
    {
     "name": "stdout",
     "output_type": "stream",
     "text": [
      "Epoch 1/50\n",
      "483/483 [==============================] - 48s 88ms/step - loss: 1.6854 - accuracy: 0.3974 - val_loss: 1.1671 - val_accuracy: 0.5956\n",
      "Epoch 2/50\n",
      "483/483 [==============================] - 43s 90ms/step - loss: 1.0593 - accuracy: 0.6212 - val_loss: 0.9061 - val_accuracy: 0.6943\n",
      "Epoch 3/50\n",
      "483/483 [==============================] - 43s 89ms/step - loss: 0.8099 - accuracy: 0.7142 - val_loss: 0.7865 - val_accuracy: 0.7306\n",
      "Epoch 4/50\n",
      "483/483 [==============================] - 41s 85ms/step - loss: 0.6774 - accuracy: 0.7541 - val_loss: 0.8005 - val_accuracy: 0.7241\n",
      "Epoch 5/50\n",
      "483/483 [==============================] - 43s 88ms/step - loss: 0.5532 - accuracy: 0.7982 - val_loss: 0.7021 - val_accuracy: 0.7674\n",
      "Epoch 6/50\n",
      "483/483 [==============================] - 43s 88ms/step - loss: 0.4773 - accuracy: 0.8259 - val_loss: 0.7165 - val_accuracy: 0.7721\n",
      "Epoch 7/50\n",
      "483/483 [==============================] - 43s 89ms/step - loss: 0.3922 - accuracy: 0.8552 - val_loss: 0.7129 - val_accuracy: 0.7908\n",
      "Epoch 8/50\n",
      "483/483 [==============================] - 42s 88ms/step - loss: 0.3394 - accuracy: 0.8746 - val_loss: 0.6987 - val_accuracy: 0.8013\n",
      "Epoch 9/50\n",
      "483/483 [==============================] - 43s 88ms/step - loss: 0.2977 - accuracy: 0.8912 - val_loss: 0.7757 - val_accuracy: 0.7919\n",
      "Epoch 10/50\n",
      "483/483 [==============================] - 43s 89ms/step - loss: 0.2457 - accuracy: 0.9158 - val_loss: 0.7699 - val_accuracy: 0.8136\n",
      "Epoch 11/50\n",
      "483/483 [==============================] - 43s 89ms/step - loss: 0.2194 - accuracy: 0.9228 - val_loss: 0.7377 - val_accuracy: 0.8182\n",
      "Epoch 12/50\n",
      "483/483 [==============================] - 42s 88ms/step - loss: 0.1739 - accuracy: 0.9352 - val_loss: 0.8114 - val_accuracy: 0.8194\n",
      "Epoch 13/50\n",
      "483/483 [==============================] - 43s 90ms/step - loss: 0.1674 - accuracy: 0.9376 - val_loss: 0.8475 - val_accuracy: 0.8071\n",
      "Epoch 14/50\n",
      "483/483 [==============================] - 43s 90ms/step - loss: 0.2152 - accuracy: 0.9272 - val_loss: 0.8507 - val_accuracy: 0.8048\n",
      "Epoch 15/50\n",
      "483/483 [==============================] - 44s 90ms/step - loss: 0.1641 - accuracy: 0.9448 - val_loss: 0.8063 - val_accuracy: 0.8247\n",
      "Epoch 16/50\n",
      "483/483 [==============================] - 43s 90ms/step - loss: 0.1298 - accuracy: 0.9508 - val_loss: 0.9318 - val_accuracy: 0.8089\n",
      "Epoch 17/50\n",
      "483/483 [==============================] - 43s 89ms/step - loss: 0.1408 - accuracy: 0.9505 - val_loss: 0.9698 - val_accuracy: 0.8141\n",
      "Epoch 18/50\n",
      "483/483 [==============================] - 44s 90ms/step - loss: 0.1468 - accuracy: 0.9464 - val_loss: 0.9171 - val_accuracy: 0.8235\n",
      "Epoch 19/50\n",
      "483/483 [==============================] - 43s 90ms/step - loss: 0.1455 - accuracy: 0.9487 - val_loss: 0.8903 - val_accuracy: 0.8206\n",
      "Epoch 19: early stopping\n"
     ]
    },
    {
     "data": {
      "text/plain": [
       "<keras.callbacks.History at 0x1e840763d90>"
      ]
     },
     "execution_count": 9,
     "metadata": {},
     "output_type": "execute_result"
    }
   ],
   "source": [
    "# model 4 training\n",
    "\n",
    "model_RNN4 = get_model_RNN4()\n",
    "\n",
    "model_RNN4.fit(dataset_train, epochs=50,  callbacks =[early_stop], validation_data=dataset_test)"
   ]
  },
  {
   "cell_type": "markdown",
   "id": "a575e671",
   "metadata": {},
   "source": [
    "Accuracy: 82.5\\% -- the dropout layer did not improve the validation accuracy."
   ]
  },
  {
   "cell_type": "code",
   "execution_count": 10,
   "id": "a773e189",
   "metadata": {},
   "outputs": [],
   "source": [
    "# model 5 - LSTM - 3 lstm layers with more units, 2 dense layers\n",
    "def get_model_RNN5():\n",
    "  model = tf.keras.models.Sequential()\n",
    "\n",
    "  model.add(tf.keras.layers.LSTM(units = 256, return_sequences = True, input_shape=[64,64]))\n",
    "  model.add(tf.keras.layers.LSTM(units = 256, return_sequences = True))\n",
    "  model.add(tf.keras.layers.LSTM(units = 256, return_sequences = True))\n",
    "\n",
    "  model.add(tf.keras.layers.Dense(units = 128))\n",
    "  model.add(tf.keras.layers.Dense(units = 64))\n",
    "  model.add(tf.keras.layers.Flatten())\n",
    "  model.add(tf.keras.layers.Dense(units = 10, activation='softmax'))\n",
    "\n",
    "  model.compile(loss = 'categorical_crossentropy',\n",
    "             optimizer = keras.optimizers.Adam(learning_rate = 0.0001),\n",
    "             metrics = ['accuracy'])\n",
    "  return model"
   ]
  },
  {
   "cell_type": "code",
   "execution_count": 11,
   "id": "abdf8d46",
   "metadata": {},
   "outputs": [
    {
     "name": "stdout",
     "output_type": "stream",
     "text": [
      "Epoch 1/50\n",
      "483/483 [==============================] - 143s 281ms/step - loss: 1.9739 - accuracy: 0.2775 - val_loss: 1.5156 - val_accuracy: 0.4582\n",
      "Epoch 2/50\n",
      "483/483 [==============================] - 136s 282ms/step - loss: 1.3561 - accuracy: 0.5096 - val_loss: 1.1753 - val_accuracy: 0.5716\n",
      "Epoch 3/50\n",
      "483/483 [==============================] - 133s 276ms/step - loss: 1.0028 - accuracy: 0.6303 - val_loss: 0.9488 - val_accuracy: 0.6622\n",
      "Epoch 4/50\n",
      "483/483 [==============================] - 134s 277ms/step - loss: 0.7637 - accuracy: 0.7223 - val_loss: 0.8346 - val_accuracy: 0.7189\n",
      "Epoch 5/50\n",
      "483/483 [==============================] - 133s 275ms/step - loss: 0.5522 - accuracy: 0.7979 - val_loss: 0.8455 - val_accuracy: 0.7271\n",
      "Epoch 6/50\n",
      "483/483 [==============================] - 132s 274ms/step - loss: 0.3916 - accuracy: 0.8567 - val_loss: 0.9784 - val_accuracy: 0.7195\n",
      "Epoch 7/50\n",
      "483/483 [==============================] - 133s 276ms/step - loss: 0.2823 - accuracy: 0.9028 - val_loss: 0.9043 - val_accuracy: 0.7633\n",
      "Epoch 8/50\n",
      "483/483 [==============================] - 134s 278ms/step - loss: 0.1966 - accuracy: 0.9303 - val_loss: 0.9329 - val_accuracy: 0.7762\n",
      "Epoch 9/50\n",
      "483/483 [==============================] - 134s 278ms/step - loss: 0.1442 - accuracy: 0.9526 - val_loss: 0.9705 - val_accuracy: 0.7832\n",
      "Epoch 10/50\n",
      "483/483 [==============================] - 134s 278ms/step - loss: 0.1466 - accuracy: 0.9495 - val_loss: 1.0203 - val_accuracy: 0.7744\n",
      "Epoch 11/50\n",
      "483/483 [==============================] - 131s 270ms/step - loss: 0.0873 - accuracy: 0.9723 - val_loss: 1.1285 - val_accuracy: 0.7843\n",
      "Epoch 12/50\n",
      "483/483 [==============================] - 133s 275ms/step - loss: 0.1106 - accuracy: 0.9598 - val_loss: 1.1212 - val_accuracy: 0.7838\n",
      "Epoch 13/50\n",
      "483/483 [==============================] - 133s 275ms/step - loss: 0.0754 - accuracy: 0.9767 - val_loss: 1.0371 - val_accuracy: 0.8071\n",
      "Epoch 14/50\n",
      "483/483 [==============================] - 133s 275ms/step - loss: 0.0580 - accuracy: 0.9795 - val_loss: 1.0821 - val_accuracy: 0.8013\n",
      "Epoch 15/50\n",
      "483/483 [==============================] - 134s 277ms/step - loss: 0.0963 - accuracy: 0.9679 - val_loss: 1.1498 - val_accuracy: 0.7960\n",
      "Epoch 16/50\n",
      "483/483 [==============================] - 134s 277ms/step - loss: 0.0621 - accuracy: 0.9795 - val_loss: 1.1616 - val_accuracy: 0.7954\n",
      "Epoch 17/50\n",
      "483/483 [==============================] - 133s 276ms/step - loss: 0.0665 - accuracy: 0.9813 - val_loss: 1.0904 - val_accuracy: 0.7972\n",
      "Epoch 17: early stopping\n"
     ]
    },
    {
     "data": {
      "text/plain": [
       "<keras.callbacks.History at 0x1e848005180>"
      ]
     },
     "execution_count": 11,
     "metadata": {},
     "output_type": "execute_result"
    }
   ],
   "source": [
    "# model 5 training\n",
    "\n",
    "model_RNN5 = get_model_RNN5()\n",
    "\n",
    "model_RNN5.fit(dataset_train, epochs=50,  callbacks =[early_stop], validation_data=dataset_test)"
   ]
  },
  {
   "cell_type": "code",
   "execution_count": null,
   "id": "9bc34fd5",
   "metadata": {},
   "outputs": [],
   "source": []
  },
  {
   "cell_type": "code",
   "execution_count": 5,
   "id": "cbb36bf0",
   "metadata": {},
   "outputs": [],
   "source": [
    "# model 6 - LSTM - 1 lstm layer with more units, 1 huge dense layers, higher learning rate\n",
    "def get_model_RNN6():\n",
    "  model = tf.keras.models.Sequential()\n",
    "\n",
    "  model.add(tf.keras.layers.LSTM(units = 512, return_sequences = True, input_shape=[64,64]))\n",
    "\n",
    "  model.add(tf.keras.layers.Dense(units = 256))\n",
    "  model.add(tf.keras.layers.Flatten())\n",
    "  model.add(tf.keras.layers.Dense(units = 10, activation='softmax'))\n",
    "\n",
    "  model.compile(loss = 'categorical_crossentropy',\n",
    "             optimizer = keras.optimizers.Adam(learning_rate = 0.001),\n",
    "             metrics = ['accuracy'])\n",
    "  return model"
   ]
  },
  {
   "cell_type": "code",
   "execution_count": 6,
   "id": "7c3be472",
   "metadata": {},
   "outputs": [
    {
     "name": "stdout",
     "output_type": "stream",
     "text": [
      "Epoch 1/50\n",
      "483/483 [==============================] - 69s 138ms/step - loss: 1.6664 - accuracy: 0.4425 - val_loss: 1.1316 - val_accuracy: 0.6143\n",
      "Epoch 2/50\n",
      "483/483 [==============================] - 67s 139ms/step - loss: 0.9895 - accuracy: 0.6674 - val_loss: 0.9355 - val_accuracy: 0.6826\n",
      "Epoch 3/50\n",
      "483/483 [==============================] - 67s 139ms/step - loss: 0.7390 - accuracy: 0.7477 - val_loss: 0.9581 - val_accuracy: 0.6943\n",
      "Epoch 4/50\n",
      "483/483 [==============================] - 67s 139ms/step - loss: 0.5775 - accuracy: 0.7964 - val_loss: 0.9212 - val_accuracy: 0.7399\n",
      "Epoch 5/50\n",
      "483/483 [==============================] - 66s 136ms/step - loss: 0.4590 - accuracy: 0.8484 - val_loss: 0.9284 - val_accuracy: 0.7528\n",
      "Epoch 6/50\n",
      "483/483 [==============================] - 65s 135ms/step - loss: 0.3915 - accuracy: 0.8648 - val_loss: 1.0402 - val_accuracy: 0.7481\n",
      "Epoch 7/50\n",
      "483/483 [==============================] - 67s 139ms/step - loss: 0.4136 - accuracy: 0.8712 - val_loss: 1.3223 - val_accuracy: 0.7575\n",
      "Epoch 8/50\n",
      "483/483 [==============================] - 68s 140ms/step - loss: 0.4747 - accuracy: 0.8598 - val_loss: 1.3819 - val_accuracy: 0.7335\n",
      "Epoch 9/50\n",
      "483/483 [==============================] - 69s 143ms/step - loss: 0.3687 - accuracy: 0.8948 - val_loss: 1.4398 - val_accuracy: 0.7598\n",
      "Epoch 10/50\n",
      "483/483 [==============================] - 70s 145ms/step - loss: 0.2897 - accuracy: 0.9174 - val_loss: 1.4832 - val_accuracy: 0.7668\n",
      "Epoch 11/50\n",
      "483/483 [==============================] - 69s 143ms/step - loss: 0.2764 - accuracy: 0.9254 - val_loss: 1.6520 - val_accuracy: 0.7610\n",
      "Epoch 12/50\n",
      "483/483 [==============================] - 71s 146ms/step - loss: 0.3306 - accuracy: 0.9142 - val_loss: 1.8263 - val_accuracy: 0.7539\n",
      "Epoch 13/50\n",
      "483/483 [==============================] - 68s 141ms/step - loss: 0.2862 - accuracy: 0.9254 - val_loss: 1.9663 - val_accuracy: 0.7621\n",
      "Epoch 14/50\n",
      "483/483 [==============================] - 71s 147ms/step - loss: 0.2713 - accuracy: 0.9311 - val_loss: 2.0025 - val_accuracy: 0.7756\n",
      "Epoch 15/50\n",
      "483/483 [==============================] - 74s 153ms/step - loss: 0.3177 - accuracy: 0.9342 - val_loss: 2.2199 - val_accuracy: 0.7680\n",
      "Epoch 16/50\n",
      "483/483 [==============================] - 70s 144ms/step - loss: 0.2386 - accuracy: 0.9391 - val_loss: 2.3594 - val_accuracy: 0.7633\n",
      "Epoch 17/50\n",
      "483/483 [==============================] - 69s 143ms/step - loss: 0.2284 - accuracy: 0.9456 - val_loss: 2.3773 - val_accuracy: 0.7586\n",
      "Epoch 18/50\n",
      "483/483 [==============================] - 69s 143ms/step - loss: 0.2870 - accuracy: 0.9370 - val_loss: 2.4851 - val_accuracy: 0.7691\n",
      "Epoch 18: early stopping\n"
     ]
    },
    {
     "data": {
      "text/plain": [
       "<keras.callbacks.History at 0x23036c88640>"
      ]
     },
     "execution_count": 6,
     "metadata": {},
     "output_type": "execute_result"
    }
   ],
   "source": [
    "# model 6 training\n",
    "\n",
    "model_RNN6 = get_model_RNN6()\n",
    "\n",
    "model_RNN6.fit(dataset_train, epochs=50,  callbacks =[early_stop], validation_data=dataset_test)"
   ]
  },
  {
   "cell_type": "markdown",
   "id": "11a9185e",
   "metadata": {},
   "source": [
    "There was an increasing validation loss. This model had a poor performance."
   ]
  },
  {
   "cell_type": "markdown",
   "id": "ecf08c8e",
   "metadata": {},
   "source": [
    "# Training and saving the best model - 3rd model"
   ]
  },
  {
   "cell_type": "code",
   "execution_count": 17,
   "id": "037e231f",
   "metadata": {},
   "outputs": [],
   "source": [
    "# model 3 - LSTM\n",
    "def get_model_RNN3():\n",
    "  model = tf.keras.models.Sequential()\n",
    "\n",
    "  model.add(tf.keras.layers.LSTM(units = 128, return_sequences = True, input_shape=[64,64]))\n",
    "  model.add(tf.keras.layers.LSTM(units = 128, return_sequences = True))\n",
    "\n",
    "  model.add(tf.keras.layers.Dense(units = 64))\n",
    "  model.add(tf.keras.layers.Flatten())\n",
    "  model.add(tf.keras.layers.Dense(units = 10, activation='softmax'))\n",
    "\n",
    "  model.compile(loss = 'categorical_crossentropy',\n",
    "             optimizer = keras.optimizers.Adam(learning_rate = 0.0005),\n",
    "             metrics = ['accuracy'])\n",
    "  return model"
   ]
  },
  {
   "cell_type": "code",
   "execution_count": 19,
   "id": "52f7ec9d",
   "metadata": {},
   "outputs": [
    {
     "name": "stdout",
     "output_type": "stream",
     "text": [
      "Epoch 1/18\n",
      "483/483 [==============================] - 30s 57ms/step - loss: 1.7914 - accuracy: 0.3433 - val_loss: 1.3013 - val_accuracy: 0.5371\n",
      "Epoch 2/18\n",
      "483/483 [==============================] - 26s 54ms/step - loss: 1.1062 - accuracy: 0.5946 - val_loss: 0.8550 - val_accuracy: 0.6973\n",
      "Epoch 3/18\n",
      "483/483 [==============================] - 26s 55ms/step - loss: 0.7912 - accuracy: 0.7168 - val_loss: 0.7299 - val_accuracy: 0.7469\n",
      "Epoch 4/18\n",
      "483/483 [==============================] - 26s 55ms/step - loss: 0.5880 - accuracy: 0.7858 - val_loss: 0.6931 - val_accuracy: 0.7598\n",
      "Epoch 5/18\n",
      "483/483 [==============================] - 27s 55ms/step - loss: 0.4506 - accuracy: 0.8399 - val_loss: 0.7096 - val_accuracy: 0.7726\n",
      "Epoch 6/18\n",
      "483/483 [==============================] - 26s 55ms/step - loss: 0.3327 - accuracy: 0.8847 - val_loss: 0.6932 - val_accuracy: 0.7890\n",
      "Epoch 7/18\n",
      "483/483 [==============================] - 27s 56ms/step - loss: 0.2750 - accuracy: 0.8990 - val_loss: 0.7407 - val_accuracy: 0.7867\n",
      "Epoch 8/18\n",
      "483/483 [==============================] - 27s 56ms/step - loss: 0.2026 - accuracy: 0.9290 - val_loss: 0.8160 - val_accuracy: 0.7843\n",
      "Epoch 9/18\n",
      "483/483 [==============================] - 27s 56ms/step - loss: 0.1955 - accuracy: 0.9311 - val_loss: 0.7955 - val_accuracy: 0.7972\n",
      "Epoch 10/18\n",
      "483/483 [==============================] - 27s 56ms/step - loss: 0.1436 - accuracy: 0.9490 - val_loss: 0.9391 - val_accuracy: 0.7843\n",
      "Epoch 11/18\n",
      "483/483 [==============================] - 27s 55ms/step - loss: 0.1522 - accuracy: 0.9459 - val_loss: 0.7954 - val_accuracy: 0.8323\n",
      "Epoch 12/18\n",
      "483/483 [==============================] - 27s 56ms/step - loss: 0.1307 - accuracy: 0.9518 - val_loss: 0.8708 - val_accuracy: 0.8124\n",
      "Epoch 13/18\n",
      "483/483 [==============================] - 27s 56ms/step - loss: 0.1434 - accuracy: 0.9508 - val_loss: 0.8528 - val_accuracy: 0.8095\n",
      "Epoch 14/18\n",
      "483/483 [==============================] - 26s 55ms/step - loss: 0.1163 - accuracy: 0.9609 - val_loss: 0.8522 - val_accuracy: 0.8270\n",
      "Epoch 15/18\n",
      " 12/483 [..............................] - ETA: 23s - loss: 0.0372 - accuracy: 0.9896"
     ]
    },
    {
     "ename": "KeyboardInterrupt",
     "evalue": "",
     "output_type": "error",
     "traceback": [
      "\u001b[1;31m---------------------------------------------------------------------------\u001b[0m",
      "\u001b[1;31mKeyboardInterrupt\u001b[0m                         Traceback (most recent call last)",
      "Cell \u001b[1;32mIn [19], line 5\u001b[0m\n\u001b[0;32m      1\u001b[0m \u001b[38;5;66;03m# model 3 training\u001b[39;00m\n\u001b[0;32m      3\u001b[0m model_RNN3 \u001b[38;5;241m=\u001b[39m get_model_RNN3()\n\u001b[1;32m----> 5\u001b[0m \u001b[43mmodel_RNN3\u001b[49m\u001b[38;5;241;43m.\u001b[39;49m\u001b[43mfit\u001b[49m\u001b[43m(\u001b[49m\u001b[43mdataset_train\u001b[49m\u001b[43m,\u001b[49m\u001b[43m \u001b[49m\u001b[43mepochs\u001b[49m\u001b[38;5;241;43m=\u001b[39;49m\u001b[38;5;241;43m18\u001b[39;49m\u001b[43m,\u001b[49m\u001b[43m  \u001b[49m\u001b[43mcallbacks\u001b[49m\u001b[43m \u001b[49m\u001b[38;5;241;43m=\u001b[39;49m\u001b[43m[\u001b[49m\u001b[43mearly_stop\u001b[49m\u001b[43m]\u001b[49m\u001b[43m,\u001b[49m\u001b[43m \u001b[49m\u001b[43mvalidation_data\u001b[49m\u001b[38;5;241;43m=\u001b[39;49m\u001b[43mdataset_test\u001b[49m\u001b[43m)\u001b[49m\n",
      "File \u001b[1;32m~\\AppData\\Roaming\\Python\\Python310\\site-packages\\keras\\utils\\traceback_utils.py:65\u001b[0m, in \u001b[0;36mfilter_traceback.<locals>.error_handler\u001b[1;34m(*args, **kwargs)\u001b[0m\n\u001b[0;32m     63\u001b[0m filtered_tb \u001b[38;5;241m=\u001b[39m \u001b[38;5;28;01mNone\u001b[39;00m\n\u001b[0;32m     64\u001b[0m \u001b[38;5;28;01mtry\u001b[39;00m:\n\u001b[1;32m---> 65\u001b[0m     \u001b[38;5;28;01mreturn\u001b[39;00m fn(\u001b[38;5;241m*\u001b[39margs, \u001b[38;5;241m*\u001b[39m\u001b[38;5;241m*\u001b[39mkwargs)\n\u001b[0;32m     66\u001b[0m \u001b[38;5;28;01mexcept\u001b[39;00m \u001b[38;5;167;01mException\u001b[39;00m \u001b[38;5;28;01mas\u001b[39;00m e:\n\u001b[0;32m     67\u001b[0m     filtered_tb \u001b[38;5;241m=\u001b[39m _process_traceback_frames(e\u001b[38;5;241m.\u001b[39m__traceback__)\n",
      "File \u001b[1;32m~\\AppData\\Roaming\\Python\\Python310\\site-packages\\keras\\engine\\training.py:1650\u001b[0m, in \u001b[0;36mModel.fit\u001b[1;34m(self, x, y, batch_size, epochs, verbose, callbacks, validation_split, validation_data, shuffle, class_weight, sample_weight, initial_epoch, steps_per_epoch, validation_steps, validation_batch_size, validation_freq, max_queue_size, workers, use_multiprocessing)\u001b[0m\n\u001b[0;32m   1642\u001b[0m \u001b[38;5;28;01mwith\u001b[39;00m tf\u001b[38;5;241m.\u001b[39mprofiler\u001b[38;5;241m.\u001b[39mexperimental\u001b[38;5;241m.\u001b[39mTrace(\n\u001b[0;32m   1643\u001b[0m     \u001b[38;5;124m\"\u001b[39m\u001b[38;5;124mtrain\u001b[39m\u001b[38;5;124m\"\u001b[39m,\n\u001b[0;32m   1644\u001b[0m     epoch_num\u001b[38;5;241m=\u001b[39mepoch,\n\u001b[1;32m   (...)\u001b[0m\n\u001b[0;32m   1647\u001b[0m     _r\u001b[38;5;241m=\u001b[39m\u001b[38;5;241m1\u001b[39m,\n\u001b[0;32m   1648\u001b[0m ):\n\u001b[0;32m   1649\u001b[0m     callbacks\u001b[38;5;241m.\u001b[39mon_train_batch_begin(step)\n\u001b[1;32m-> 1650\u001b[0m     tmp_logs \u001b[38;5;241m=\u001b[39m \u001b[38;5;28;43mself\u001b[39;49m\u001b[38;5;241;43m.\u001b[39;49m\u001b[43mtrain_function\u001b[49m\u001b[43m(\u001b[49m\u001b[43miterator\u001b[49m\u001b[43m)\u001b[49m\n\u001b[0;32m   1651\u001b[0m     \u001b[38;5;28;01mif\u001b[39;00m data_handler\u001b[38;5;241m.\u001b[39mshould_sync:\n\u001b[0;32m   1652\u001b[0m         context\u001b[38;5;241m.\u001b[39masync_wait()\n",
      "File \u001b[1;32m~\\AppData\\Roaming\\Python\\Python310\\site-packages\\tensorflow\\python\\util\\traceback_utils.py:150\u001b[0m, in \u001b[0;36mfilter_traceback.<locals>.error_handler\u001b[1;34m(*args, **kwargs)\u001b[0m\n\u001b[0;32m    148\u001b[0m filtered_tb \u001b[38;5;241m=\u001b[39m \u001b[38;5;28;01mNone\u001b[39;00m\n\u001b[0;32m    149\u001b[0m \u001b[38;5;28;01mtry\u001b[39;00m:\n\u001b[1;32m--> 150\u001b[0m   \u001b[38;5;28;01mreturn\u001b[39;00m fn(\u001b[38;5;241m*\u001b[39margs, \u001b[38;5;241m*\u001b[39m\u001b[38;5;241m*\u001b[39mkwargs)\n\u001b[0;32m    151\u001b[0m \u001b[38;5;28;01mexcept\u001b[39;00m \u001b[38;5;167;01mException\u001b[39;00m \u001b[38;5;28;01mas\u001b[39;00m e:\n\u001b[0;32m    152\u001b[0m   filtered_tb \u001b[38;5;241m=\u001b[39m _process_traceback_frames(e\u001b[38;5;241m.\u001b[39m__traceback__)\n",
      "File \u001b[1;32m~\\AppData\\Roaming\\Python\\Python310\\site-packages\\tensorflow\\python\\eager\\polymorphic_function\\polymorphic_function.py:880\u001b[0m, in \u001b[0;36mFunction.__call__\u001b[1;34m(self, *args, **kwds)\u001b[0m\n\u001b[0;32m    877\u001b[0m compiler \u001b[38;5;241m=\u001b[39m \u001b[38;5;124m\"\u001b[39m\u001b[38;5;124mxla\u001b[39m\u001b[38;5;124m\"\u001b[39m \u001b[38;5;28;01mif\u001b[39;00m \u001b[38;5;28mself\u001b[39m\u001b[38;5;241m.\u001b[39m_jit_compile \u001b[38;5;28;01melse\u001b[39;00m \u001b[38;5;124m\"\u001b[39m\u001b[38;5;124mnonXla\u001b[39m\u001b[38;5;124m\"\u001b[39m\n\u001b[0;32m    879\u001b[0m \u001b[38;5;28;01mwith\u001b[39;00m OptionalXlaContext(\u001b[38;5;28mself\u001b[39m\u001b[38;5;241m.\u001b[39m_jit_compile):\n\u001b[1;32m--> 880\u001b[0m   result \u001b[38;5;241m=\u001b[39m \u001b[38;5;28mself\u001b[39m\u001b[38;5;241m.\u001b[39m_call(\u001b[38;5;241m*\u001b[39margs, \u001b[38;5;241m*\u001b[39m\u001b[38;5;241m*\u001b[39mkwds)\n\u001b[0;32m    882\u001b[0m new_tracing_count \u001b[38;5;241m=\u001b[39m \u001b[38;5;28mself\u001b[39m\u001b[38;5;241m.\u001b[39mexperimental_get_tracing_count()\n\u001b[0;32m    883\u001b[0m without_tracing \u001b[38;5;241m=\u001b[39m (tracing_count \u001b[38;5;241m==\u001b[39m new_tracing_count)\n",
      "File \u001b[1;32m~\\AppData\\Roaming\\Python\\Python310\\site-packages\\tensorflow\\python\\eager\\polymorphic_function\\polymorphic_function.py:912\u001b[0m, in \u001b[0;36mFunction._call\u001b[1;34m(self, *args, **kwds)\u001b[0m\n\u001b[0;32m    909\u001b[0m   \u001b[38;5;28mself\u001b[39m\u001b[38;5;241m.\u001b[39m_lock\u001b[38;5;241m.\u001b[39mrelease()\n\u001b[0;32m    910\u001b[0m   \u001b[38;5;66;03m# In this case we have created variables on the first call, so we run the\u001b[39;00m\n\u001b[0;32m    911\u001b[0m   \u001b[38;5;66;03m# defunned version which is guaranteed to never create variables.\u001b[39;00m\n\u001b[1;32m--> 912\u001b[0m   \u001b[38;5;28;01mreturn\u001b[39;00m \u001b[38;5;28mself\u001b[39m\u001b[38;5;241m.\u001b[39m_no_variable_creation_fn(\u001b[38;5;241m*\u001b[39margs, \u001b[38;5;241m*\u001b[39m\u001b[38;5;241m*\u001b[39mkwds)  \u001b[38;5;66;03m# pylint: disable=not-callable\u001b[39;00m\n\u001b[0;32m    913\u001b[0m \u001b[38;5;28;01melif\u001b[39;00m \u001b[38;5;28mself\u001b[39m\u001b[38;5;241m.\u001b[39m_variable_creation_fn \u001b[38;5;129;01mis\u001b[39;00m \u001b[38;5;129;01mnot\u001b[39;00m \u001b[38;5;28;01mNone\u001b[39;00m:\n\u001b[0;32m    914\u001b[0m   \u001b[38;5;66;03m# Release the lock early so that multiple threads can perform the call\u001b[39;00m\n\u001b[0;32m    915\u001b[0m   \u001b[38;5;66;03m# in parallel.\u001b[39;00m\n\u001b[0;32m    916\u001b[0m   \u001b[38;5;28mself\u001b[39m\u001b[38;5;241m.\u001b[39m_lock\u001b[38;5;241m.\u001b[39mrelease()\n",
      "File \u001b[1;32m~\\AppData\\Roaming\\Python\\Python310\\site-packages\\tensorflow\\python\\eager\\polymorphic_function\\tracing_compiler.py:134\u001b[0m, in \u001b[0;36mTracingCompiler.__call__\u001b[1;34m(self, *args, **kwargs)\u001b[0m\n\u001b[0;32m    131\u001b[0m \u001b[38;5;28;01mwith\u001b[39;00m \u001b[38;5;28mself\u001b[39m\u001b[38;5;241m.\u001b[39m_lock:\n\u001b[0;32m    132\u001b[0m   (concrete_function,\n\u001b[0;32m    133\u001b[0m    filtered_flat_args) \u001b[38;5;241m=\u001b[39m \u001b[38;5;28mself\u001b[39m\u001b[38;5;241m.\u001b[39m_maybe_define_function(args, kwargs)\n\u001b[1;32m--> 134\u001b[0m \u001b[38;5;28;01mreturn\u001b[39;00m \u001b[43mconcrete_function\u001b[49m\u001b[38;5;241;43m.\u001b[39;49m\u001b[43m_call_flat\u001b[49m\u001b[43m(\u001b[49m\n\u001b[0;32m    135\u001b[0m \u001b[43m    \u001b[49m\u001b[43mfiltered_flat_args\u001b[49m\u001b[43m,\u001b[49m\u001b[43m \u001b[49m\u001b[43mcaptured_inputs\u001b[49m\u001b[38;5;241;43m=\u001b[39;49m\u001b[43mconcrete_function\u001b[49m\u001b[38;5;241;43m.\u001b[39;49m\u001b[43mcaptured_inputs\u001b[49m\u001b[43m)\u001b[49m\n",
      "File \u001b[1;32m~\\AppData\\Roaming\\Python\\Python310\\site-packages\\tensorflow\\python\\eager\\polymorphic_function\\monomorphic_function.py:1745\u001b[0m, in \u001b[0;36mConcreteFunction._call_flat\u001b[1;34m(self, args, captured_inputs, cancellation_manager)\u001b[0m\n\u001b[0;32m   1741\u001b[0m possible_gradient_type \u001b[38;5;241m=\u001b[39m gradients_util\u001b[38;5;241m.\u001b[39mPossibleTapeGradientTypes(args)\n\u001b[0;32m   1742\u001b[0m \u001b[38;5;28;01mif\u001b[39;00m (possible_gradient_type \u001b[38;5;241m==\u001b[39m gradients_util\u001b[38;5;241m.\u001b[39mPOSSIBLE_GRADIENT_TYPES_NONE\n\u001b[0;32m   1743\u001b[0m     \u001b[38;5;129;01mand\u001b[39;00m executing_eagerly):\n\u001b[0;32m   1744\u001b[0m   \u001b[38;5;66;03m# No tape is watching; skip to running the function.\u001b[39;00m\n\u001b[1;32m-> 1745\u001b[0m   \u001b[38;5;28;01mreturn\u001b[39;00m \u001b[38;5;28mself\u001b[39m\u001b[38;5;241m.\u001b[39m_build_call_outputs(\u001b[38;5;28;43mself\u001b[39;49m\u001b[38;5;241;43m.\u001b[39;49m\u001b[43m_inference_function\u001b[49m\u001b[38;5;241;43m.\u001b[39;49m\u001b[43mcall\u001b[49m\u001b[43m(\u001b[49m\n\u001b[0;32m   1746\u001b[0m \u001b[43m      \u001b[49m\u001b[43mctx\u001b[49m\u001b[43m,\u001b[49m\u001b[43m \u001b[49m\u001b[43margs\u001b[49m\u001b[43m,\u001b[49m\u001b[43m \u001b[49m\u001b[43mcancellation_manager\u001b[49m\u001b[38;5;241;43m=\u001b[39;49m\u001b[43mcancellation_manager\u001b[49m\u001b[43m)\u001b[49m)\n\u001b[0;32m   1747\u001b[0m forward_backward \u001b[38;5;241m=\u001b[39m \u001b[38;5;28mself\u001b[39m\u001b[38;5;241m.\u001b[39m_select_forward_and_backward_functions(\n\u001b[0;32m   1748\u001b[0m     args,\n\u001b[0;32m   1749\u001b[0m     possible_gradient_type,\n\u001b[0;32m   1750\u001b[0m     executing_eagerly)\n\u001b[0;32m   1751\u001b[0m forward_function, args_with_tangents \u001b[38;5;241m=\u001b[39m forward_backward\u001b[38;5;241m.\u001b[39mforward()\n",
      "File \u001b[1;32m~\\AppData\\Roaming\\Python\\Python310\\site-packages\\tensorflow\\python\\eager\\polymorphic_function\\monomorphic_function.py:378\u001b[0m, in \u001b[0;36m_EagerDefinedFunction.call\u001b[1;34m(self, ctx, args, cancellation_manager)\u001b[0m\n\u001b[0;32m    376\u001b[0m \u001b[38;5;28;01mwith\u001b[39;00m _InterpolateFunctionError(\u001b[38;5;28mself\u001b[39m):\n\u001b[0;32m    377\u001b[0m   \u001b[38;5;28;01mif\u001b[39;00m cancellation_manager \u001b[38;5;129;01mis\u001b[39;00m \u001b[38;5;28;01mNone\u001b[39;00m:\n\u001b[1;32m--> 378\u001b[0m     outputs \u001b[38;5;241m=\u001b[39m \u001b[43mexecute\u001b[49m\u001b[38;5;241;43m.\u001b[39;49m\u001b[43mexecute\u001b[49m\u001b[43m(\u001b[49m\n\u001b[0;32m    379\u001b[0m \u001b[43m        \u001b[49m\u001b[38;5;28;43mstr\u001b[39;49m\u001b[43m(\u001b[49m\u001b[38;5;28;43mself\u001b[39;49m\u001b[38;5;241;43m.\u001b[39;49m\u001b[43msignature\u001b[49m\u001b[38;5;241;43m.\u001b[39;49m\u001b[43mname\u001b[49m\u001b[43m)\u001b[49m\u001b[43m,\u001b[49m\n\u001b[0;32m    380\u001b[0m \u001b[43m        \u001b[49m\u001b[43mnum_outputs\u001b[49m\u001b[38;5;241;43m=\u001b[39;49m\u001b[38;5;28;43mself\u001b[39;49m\u001b[38;5;241;43m.\u001b[39;49m\u001b[43m_num_outputs\u001b[49m\u001b[43m,\u001b[49m\n\u001b[0;32m    381\u001b[0m \u001b[43m        \u001b[49m\u001b[43minputs\u001b[49m\u001b[38;5;241;43m=\u001b[39;49m\u001b[43margs\u001b[49m\u001b[43m,\u001b[49m\n\u001b[0;32m    382\u001b[0m \u001b[43m        \u001b[49m\u001b[43mattrs\u001b[49m\u001b[38;5;241;43m=\u001b[39;49m\u001b[43mattrs\u001b[49m\u001b[43m,\u001b[49m\n\u001b[0;32m    383\u001b[0m \u001b[43m        \u001b[49m\u001b[43mctx\u001b[49m\u001b[38;5;241;43m=\u001b[39;49m\u001b[43mctx\u001b[49m\u001b[43m)\u001b[49m\n\u001b[0;32m    384\u001b[0m   \u001b[38;5;28;01melse\u001b[39;00m:\n\u001b[0;32m    385\u001b[0m     outputs \u001b[38;5;241m=\u001b[39m execute\u001b[38;5;241m.\u001b[39mexecute_with_cancellation(\n\u001b[0;32m    386\u001b[0m         \u001b[38;5;28mstr\u001b[39m(\u001b[38;5;28mself\u001b[39m\u001b[38;5;241m.\u001b[39msignature\u001b[38;5;241m.\u001b[39mname),\n\u001b[0;32m    387\u001b[0m         num_outputs\u001b[38;5;241m=\u001b[39m\u001b[38;5;28mself\u001b[39m\u001b[38;5;241m.\u001b[39m_num_outputs,\n\u001b[1;32m   (...)\u001b[0m\n\u001b[0;32m    390\u001b[0m         ctx\u001b[38;5;241m=\u001b[39mctx,\n\u001b[0;32m    391\u001b[0m         cancellation_manager\u001b[38;5;241m=\u001b[39mcancellation_manager)\n",
      "File \u001b[1;32m~\\AppData\\Roaming\\Python\\Python310\\site-packages\\tensorflow\\python\\eager\\execute.py:52\u001b[0m, in \u001b[0;36mquick_execute\u001b[1;34m(op_name, num_outputs, inputs, attrs, ctx, name)\u001b[0m\n\u001b[0;32m     50\u001b[0m \u001b[38;5;28;01mtry\u001b[39;00m:\n\u001b[0;32m     51\u001b[0m   ctx\u001b[38;5;241m.\u001b[39mensure_initialized()\n\u001b[1;32m---> 52\u001b[0m   tensors \u001b[38;5;241m=\u001b[39m \u001b[43mpywrap_tfe\u001b[49m\u001b[38;5;241;43m.\u001b[39;49m\u001b[43mTFE_Py_Execute\u001b[49m\u001b[43m(\u001b[49m\u001b[43mctx\u001b[49m\u001b[38;5;241;43m.\u001b[39;49m\u001b[43m_handle\u001b[49m\u001b[43m,\u001b[49m\u001b[43m \u001b[49m\u001b[43mdevice_name\u001b[49m\u001b[43m,\u001b[49m\u001b[43m \u001b[49m\u001b[43mop_name\u001b[49m\u001b[43m,\u001b[49m\n\u001b[0;32m     53\u001b[0m \u001b[43m                                      \u001b[49m\u001b[43minputs\u001b[49m\u001b[43m,\u001b[49m\u001b[43m \u001b[49m\u001b[43mattrs\u001b[49m\u001b[43m,\u001b[49m\u001b[43m \u001b[49m\u001b[43mnum_outputs\u001b[49m\u001b[43m)\u001b[49m\n\u001b[0;32m     54\u001b[0m \u001b[38;5;28;01mexcept\u001b[39;00m core\u001b[38;5;241m.\u001b[39m_NotOkStatusException \u001b[38;5;28;01mas\u001b[39;00m e:\n\u001b[0;32m     55\u001b[0m   \u001b[38;5;28;01mif\u001b[39;00m name \u001b[38;5;129;01mis\u001b[39;00m \u001b[38;5;129;01mnot\u001b[39;00m \u001b[38;5;28;01mNone\u001b[39;00m:\n",
      "\u001b[1;31mKeyboardInterrupt\u001b[0m: "
     ]
    }
   ],
   "source": [
    "# model 3 training\n",
    "\n",
    "model_RNN3 = get_model_RNN3()\n",
    "\n",
    "model_RNN3.fit(dataset_train, epochs=18,  callbacks =[early_stop], validation_data=dataset_test)"
   ]
  },
  {
   "cell_type": "code",
   "execution_count": null,
   "id": "1224a965",
   "metadata": {},
   "outputs": [],
   "source": []
  },
  {
   "cell_type": "code",
   "execution_count": 20,
   "id": "ee03016e",
   "metadata": {},
   "outputs": [],
   "source": [
    "model_RNN3.save('./model3.h5',save_format='h5')\n",
    "model = tf.keras.models.load_model('./model3.h5')"
   ]
  },
  {
   "cell_type": "markdown",
   "id": "2c09a910",
   "metadata": {},
   "source": [
    "# Evaluation of the best model - confusion matrix"
   ]
  },
  {
   "cell_type": "code",
   "execution_count": 22,
   "id": "08ad8acb",
   "metadata": {},
   "outputs": [
    {
     "name": "stdout",
     "output_type": "stream",
     "text": [
      "214/214 [==============================] - 3s 15ms/step\n"
     ]
    }
   ],
   "source": [
    "aux = model.predict(dataset_test)"
   ]
  },
  {
   "cell_type": "code",
   "execution_count": 37,
   "id": "919228f2",
   "metadata": {},
   "outputs": [],
   "source": [
    "aux = np.argmax(aux, axis = 1)"
   ]
  },
  {
   "cell_type": "code",
   "execution_count": 65,
   "id": "3a3c5fac",
   "metadata": {},
   "outputs": [],
   "source": [
    "NumbersToWordsMap = {9: \"yes\", 3:\"no\",8:\"up\",0:\"down\",2:\"left\",6:\"right\",\n",
    "                     5:\"on\",4:\"off\",7:\"stop\",1:\"go\"}"
   ]
  },
  {
   "cell_type": "code",
   "execution_count": 66,
   "id": "f6b53ad7",
   "metadata": {},
   "outputs": [
    {
     "data": {
      "text/plain": [
       "array(['go', 'up', 'off', ..., 'right', 'stop', 'on'], dtype='<U5')"
      ]
     },
     "execution_count": 66,
     "metadata": {},
     "output_type": "execute_result"
    }
   ],
   "source": [
    "predicted_labels = np.vectorize(NumbersToWordsMap.get)(aux)\n",
    "\n",
    "predicted_labels"
   ]
  },
  {
   "cell_type": "code",
   "execution_count": 67,
   "id": "44df706f",
   "metadata": {},
   "outputs": [
    {
     "data": {
      "text/plain": [
       "array(['no', 'up', 'off', ..., 'right', 'stop', 'on'], dtype='<U5')"
      ]
     },
     "execution_count": 67,
     "metadata": {},
     "output_type": "execute_result"
    }
   ],
   "source": [
    "true_labels = np.array(labels_test)\n",
    "true_labels"
   ]
  },
  {
   "cell_type": "code",
   "execution_count": 64,
   "id": "e4859c47",
   "metadata": {},
   "outputs": [
    {
     "data": {
      "text/plain": [
       "<tf.Tensor: shape=(), dtype=float32, numpy=1.0>"
      ]
     },
     "execution_count": 64,
     "metadata": {},
     "output_type": "execute_result"
    }
   ],
   "source": [
    "y_test[440,0,0]"
   ]
  },
  {
   "cell_type": "code",
   "execution_count": 49,
   "id": "0cdfde95",
   "metadata": {},
   "outputs": [],
   "source": [
    "from sklearn.metrics import confusion_matrix"
   ]
  },
  {
   "cell_type": "code",
   "execution_count": 68,
   "id": "11f76dff",
   "metadata": {},
   "outputs": [
    {
     "name": "stdout",
     "output_type": "stream",
     "text": [
      "[[138   9   3  14   0   1   0   2   0   2]\n",
      " [  6 125   1  16   2   1   3   6   5   2]\n",
      " [  4   0 147   6   2   1   4   3   4   7]\n",
      " [  4  17   1 141   1   1   1   0   1   1]\n",
      " [  1   2   1   1 143  13   0   4  10   0]\n",
      " [  4   1   2   1   8 144   2   0   2   0]\n",
      " [  2   5   3   2   0   3 153   0   4   0]\n",
      " [  2   1   3   4   6   1   1 138   7   3]\n",
      " [  2   4   3   3   5   0   1  14 150   0]\n",
      " [  4   2   8   3   0   0   2   1   2 148]]\n"
     ]
    }
   ],
   "source": [
    "cf_matrix = confusion_matrix(true_labels, predicted_labels)\n",
    "print(cf_matrix)"
   ]
  },
  {
   "cell_type": "code",
   "execution_count": 79,
   "id": "542875aa",
   "metadata": {},
   "outputs": [
    {
     "data": {
      "text/plain": [
       "[Text(0.5, 1.0, 'Confusion matrix with frequency predictions - validation data'),\n",
       " Text(50.722222222222214, 0.5, 'Predicted value of label'),\n",
       " Text(0.5, 23.52222222222222, 'True value of label')]"
      ]
     },
     "execution_count": 79,
     "metadata": {},
     "output_type": "execute_result"
    },
    {
     "data": {
      "image/png": "[encoded data removed]",
      "text/plain": [
       "<Figure size 640x480 with 2 Axes>"
      ]
     },
     "metadata": {},
     "output_type": "display_data"
    }
   ],
   "source": [
    "import seaborn as sns\n",
    "\n",
    "#ticklabels = [\"yes\",\"no\",\"up\",\"down\",\"left\",\"right\",\"on\",\"off\",\"stop\",\"go\"]\n",
    "\n",
    "#sth = {9: \"yes\", 3:\"no\",8:\"up\",0:\"down\",2:\"left\",6:\"right\",\n",
    "                     5:\"on\",4:\"off\",7:\"stop\",1:\"go\"}\n",
    "\n",
    "ticklabels = [\"down\", \"go\", \"left\", \"no\", \"off\", \"on\", \"right\", \"stop\", \"up\", \"yes\"]\n",
    "\n",
    "sns.heatmap(cf_matrix/np.sum(cf_matrix, axis = 1), annot=True, \n",
    "            fmt='.0%', cmap='Blues',\n",
    "           xticklabels=ticklabels, yticklabels=ticklabels).set(title = \"Confusion matrix with frequency predictions - validation data\", ylabel = \"Predicted value of label\", xlabel = \"True value of label\")"
   ]
  },
  {
   "cell_type": "markdown",
   "id": "c9c36792",
   "metadata": {},
   "source": [
    "# Conclusions - confusion matrix\n",
    "\n",
    "The most mistaken labels ( one with another) were **go** and **no** - it is understandable, because even a human can sometimes mishear these words and thus confuse them.\n",
    "\n",
    "The model predicted **right**, **on** and **yes** labels with the highest success - reaching almost 90\\%."
   ]
  }
 ],
 "metadata": {
  "kernelspec": {
   "display_name": "Python 3 (ipykernel)",
   "language": "python",
   "name": "python3"
  },
  "language_info": {
   "codemirror_mode": {
    "name": "ipython",
    "version": 3
   },
   "file_extension": ".py",
   "mimetype": "text/x-python",
   "name": "python",
   "nbconvert_exporter": "python",
   "pygments_lexer": "ipython3",
   "version": "3.10.8"
  }
 },
 "nbformat": 4,
 "nbformat_minor": 5
}
