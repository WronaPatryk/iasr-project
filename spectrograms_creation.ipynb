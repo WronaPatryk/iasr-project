{
 "cells": [
  {
   "cell_type": "markdown",
   "id": "b53e6469",
   "metadata": {},
   "source": [
    "# Audio files to spectrograms transformation\n"
   ]
  },
  {
   "cell_type": "code",
   "execution_count": 11,
   "id": "b59ff414",
   "metadata": {},
   "outputs": [],
   "source": [
    "import pandas as pd\n",
    "import numpy as np\n",
    "import scipy\n",
    "\n",
    "from scipy import signal\n",
    "from scipy.io import wavfile\n",
    "import matplotlib.pyplot as plt\n",
    "import random\n",
    "import librosa\n",
    "import matplotlib.image"
   ]
  },
  {
   "cell_type": "markdown",
   "id": "e8b42265",
   "metadata": {},
   "source": [
    "### Loading data"
   ]
  },
  {
   "cell_type": "code",
   "execution_count": 2,
   "id": "49dd9fc5",
   "metadata": {},
   "outputs": [],
   "source": [
    "train_list = pd.read_csv(\"final_train_list.txt\", index_col = 0).iloc[:,0].values.tolist()\n",
    "test_list = pd.read_csv(\"final_test_list.txt\", index_col = 0).iloc[:,0].values.tolist()"
   ]
  },
  {
   "cell_type": "code",
   "execution_count": 5,
   "id": "abf39eff",
   "metadata": {},
   "outputs": [
    {
     "data": {
      "text/plain": [
       "['audio/down/881583a6_nohash_0.wav',\n",
       " 'audio/right/cd85758f_nohash_2.wav',\n",
       " 'audio/left/7be5a0f3_nohash_0.wav',\n",
       " 'audio/stop/c22d3f18_nohash_0.wav']"
      ]
     },
     "execution_count": 5,
     "metadata": {},
     "output_type": "execute_result"
    }
   ],
   "source": [
    "train_list[0:4]"
   ]
  },
  {
   "cell_type": "code",
   "execution_count": null,
   "id": "74880ad7",
   "metadata": {},
   "outputs": [],
   "source": []
  },
  {
   "cell_type": "markdown",
   "id": "4adfd5e5",
   "metadata": {},
   "source": [
    "### Spectrograms"
   ]
  },
  {
   "cell_type": "code",
   "execution_count": 139,
   "id": "0ea39bcd",
   "metadata": {},
   "outputs": [
    {
     "name": "stderr",
     "output_type": "stream",
     "text": [
      "A subdirectory or file spectrograms already exists.\n"
     ]
    }
   ],
   "source": [
    "!mkdir spectrograms\n",
    "!mkdir spectrograms\\yes\n",
    "!mkdir spectrograms\\no\n",
    "!mkdir spectrograms\\up\n",
    "!mkdir spectrograms\\down\n",
    "!mkdir spectrograms\\left\n",
    "!mkdir spectrograms\\right\n",
    "!mkdir spectrograms\\on\n",
    "!mkdir spectrograms\\off\n",
    "!mkdir spectrograms\\stop\n",
    "!mkdir spectrograms\\go"
   ]
  },
  {
   "cell_type": "code",
   "execution_count": 140,
   "id": "d973b1fe",
   "metadata": {},
   "outputs": [],
   "source": [
    "import warnings\n",
    "warnings.simplefilter('ignore')"
   ]
  },
  {
   "cell_type": "code",
   "execution_count": 201,
   "id": "b4396a3b",
   "metadata": {},
   "outputs": [
    {
     "data": {
      "image/png": "[encoded data removed]",
      "text/plain": [
       "<Figure size 640x480 with 1 Axes>"
      ]
     },
     "metadata": {},
     "output_type": "display_data"
    }
   ],
   "source": [
    "path = test_list[14]\n",
    "\n",
    "sample_rate, samples = wavfile.read(path)\n",
    "frequencies, times, spectrogram = signal.spectrogram(samples, sample_rate)\n",
    "\n",
    "plt.imshow(spectrogram[0:64, 0:64])\n",
    "plt.ylabel('Frequency [Hz]')\n",
    "plt.xlabel('Time [sec]')\n",
    "# plt.legend(loc=\"upper right\")\n",
    "plt.show()"
   ]
  },
  {
   "cell_type": "markdown",
   "id": "70b26e29",
   "metadata": {},
   "source": [
    "### TESTING AUDIO FILES - time stretching ---- and transformation to spectrograms 64 x 64"
   ]
  },
  {
   "cell_type": "code",
   "execution_count": 211,
   "id": "76defe7c",
   "metadata": {},
   "outputs": [],
   "source": [
    "# TIME STRETCHING OF ALL AUDIO FILES TO 64 s, saving spectrorams as 64 x 64 files \n",
    "# - frequency is also reduced to significant values comprised within 64 pixels\n",
    "\n",
    "REFERENCE_LENGTH = 14550.0\n",
    "\n",
    "count = 0\n",
    "for path in test_list:\n",
    "    # loading audio file\n",
    "    song, fs = librosa.load(path)\n",
    "    \n",
    "    # stretching to Time duration equivalent to 64 pixels\n",
    "    song_stretched = librosa.effects.time_stretch(song, song.shape[0]/REFERENCE_LENGTH)\n",
    "    frequencies, times, spectrogram = signal.spectrogram(song_stretched, fs)\n",
    "    \n",
    "    # spectorgram path\n",
    "    arr = path.split(\"/\")\n",
    "    spectrogram_path = \"spectrograms/\" + arr[1] + \"/\" + arr[2][:-4] + \".png\"\n",
    "    \n",
    "    # scaling spectrograms to 64 x 64 pixels & 0 - 255 integers\n",
    "    spectrogram = spectrogram[0:64, 0:64]\n",
    "    spectrogram = (np.round(spectrogram/(spectrogram.max()/255.0))).astype(np.uint8)\n",
    "    \n",
    "    # saving spectrogram\n",
    "    matplotlib.image.imsave(spectrogram_path, spectrogram)\n"
   ]
  },
  {
   "cell_type": "markdown",
   "id": "aac202bd",
   "metadata": {},
   "source": [
    "### TRAINING AUDIO FILES - time stretching ---- and transformation to spectrograms 64 x 64"
   ]
  },
  {
   "cell_type": "code",
   "execution_count": 212,
   "id": "31cb1754",
   "metadata": {},
   "outputs": [],
   "source": [
    "# TIME STRETCHING OF ALL AUDIO FILES TO 64 s, saving spectrorams as 64 x 64 files \n",
    "# - frequency is also reduced to significant values comprised within 64 pixels\n",
    "\n",
    "REFERENCE_LENGTH = 14550.0\n",
    "\n",
    "for path in train_list:\n",
    "    # loading audio file\n",
    "    song, fs = librosa.load(path)\n",
    "    \n",
    "    # stretching to Time duration equivalent to 64 pixels\n",
    "    song_stretched = librosa.effects.time_stretch(song, song.shape[0]/REFERENCE_LENGTH)\n",
    "    frequencies, times, spectrogram = signal.spectrogram(song_stretched, fs)\n",
    "    \n",
    "    # spectorgram path\n",
    "    arr = path.split(\"/\")\n",
    "    spectrogram_path = \"spectrograms/\" + arr[1] + \"/\" + arr[2][:-4] + \".png\"\n",
    "    \n",
    "    # scaling spectrograms to 64 x 64 pixels & 0 - 255 integers\n",
    "    spectrogram = spectrogram[0:64, 0:64]\n",
    "    spectrogram = (np.round(spectrogram/(spectrogram.max()/255.0))).astype(np.uint8)\n",
    "    \n",
    "    # saving spectrogram\n",
    "    matplotlib.image.imsave(spectrogram_path, spectrogram)\n"
   ]
  },
  {
   "cell_type": "markdown",
   "id": "d0aeba30",
   "metadata": {},
   "source": [
    "### Saving lists to read spectrograms"
   ]
  },
  {
   "cell_type": "code",
   "execution_count": 213,
   "id": "b7a81127",
   "metadata": {},
   "outputs": [],
   "source": [
    "spectr_test_list = []\n",
    "\n",
    "for el in test_list:\n",
    "    arr = el.split(\"/\")\n",
    "    spectrogram_path = \"spectrograms/\" + arr[1] + \"/\" + arr[2][:-4] + \".png\"\n",
    "    spectr_test_list.append(spectrogram_path)\n",
    "\n",
    "spectr_train_list = []\n",
    "\n",
    "for el in train_list:\n",
    "    arr = el.split(\"/\")\n",
    "    spectrogram_path = \"spectrograms/\" + arr[1] + \"/\" + arr[2][:-4] + \".png\"\n",
    "    spectr_train_list.append(spectrogram_path)\n"
   ]
  },
  {
   "cell_type": "code",
   "execution_count": 218,
   "id": "5418c850",
   "metadata": {},
   "outputs": [
    {
     "data": {
      "text/plain": [
       "'spectrograms/off/6b81fead_nohash_0.png'"
      ]
     },
     "execution_count": 218,
     "metadata": {},
     "output_type": "execute_result"
    }
   ],
   "source": [
    "spectr_train_list[14]"
   ]
  },
  {
   "cell_type": "code",
   "execution_count": 215,
   "id": "ec59b2f9",
   "metadata": {},
   "outputs": [],
   "source": [
    "\n",
    "pd.DataFrame(spectr_train_list).to_csv(\"spectr_train_list.txt\")\n",
    "    \n",
    "pd.DataFrame(spectr_test_list).to_csv(\"spectr_test_list.txt\")"
   ]
  },
  {
   "cell_type": "code",
   "execution_count": 219,
   "id": "8d9b895b",
   "metadata": {},
   "outputs": [],
   "source": [
    "spectr_train_list = pd.read_csv(\"spectr_train_list.txt\", index_col = 0).iloc[:,0].values.tolist()\n",
    "spectr_test_list = pd.read_csv(\"spectr_test_list.txt\", index_col = 0).iloc[:,0].values.tolist()"
   ]
  },
  {
   "cell_type": "code",
   "execution_count": null,
   "id": "069d66cf",
   "metadata": {},
   "outputs": [],
   "source": []
  },
  {
   "cell_type": "code",
   "execution_count": null,
   "id": "5c50e2a6",
   "metadata": {},
   "outputs": [],
   "source": []
  },
  {
   "cell_type": "markdown",
   "id": "4dc70f36",
   "metadata": {},
   "source": [
    "### Other - not used"
   ]
  },
  {
   "cell_type": "code",
   "execution_count": 69,
   "id": "e63e6c06",
   "metadata": {},
   "outputs": [],
   "source": [
    "s = []\n",
    "s2 = []\n",
    "for path in test_list:\n",
    "    sample_rate, samples = wavfile.read(path)\n",
    "    frequencies, times, spectrogram = signal.spectrogram(samples, sample_rate)\n",
    "    s.append(spectrogram.shape[0])\n",
    "    s2.append(spectrogram.shape[1])"
   ]
  },
  {
   "cell_type": "code",
   "execution_count": 74,
   "id": "fe3cb1f2",
   "metadata": {},
   "outputs": [
    {
     "data": {
      "text/plain": [
       "array([129])"
      ]
     },
     "execution_count": 74,
     "metadata": {},
     "output_type": "execute_result"
    }
   ],
   "source": [
    "np.unique(s)\n"
   ]
  },
  {
   "cell_type": "code",
   "execution_count": 73,
   "id": "ce7b922e",
   "metadata": {},
   "outputs": [
    {
     "data": {
      "text/plain": [
       "array([98])"
      ]
     },
     "execution_count": 73,
     "metadata": {},
     "output_type": "execute_result"
    }
   ],
   "source": [
    "np.unique(s2)"
   ]
  }
 ],
 "metadata": {
  "kernelspec": {
   "display_name": "Python 3 (ipykernel)",
   "language": "python",
   "name": "python3"
  },
  "language_info": {
   "codemirror_mode": {
    "name": "ipython",
    "version": 3
   },
   "file_extension": ".py",
   "mimetype": "text/x-python",
   "name": "python",
   "nbconvert_exporter": "python",
   "pygments_lexer": "ipython3",
   "version": "3.10.8"
  }
 },
 "nbformat": 4,
 "nbformat_minor": 5
}
