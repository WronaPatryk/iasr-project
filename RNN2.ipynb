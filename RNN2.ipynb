{
 "cells": [
  {
   "cell_type": "markdown",
   "id": "92cadd0c",
   "metadata": {},
   "source": [
    "# Training of Recurrenct Neural Network (RNN) model on spectrograms ( second version of spectrograms)"
   ]
  },
  {
   "cell_type": "code",
   "execution_count": 1,
   "id": "b21f71bf",
   "metadata": {},
   "outputs": [],
   "source": [
    "import numpy as np\n",
    "import pandas as pd\n",
    "\n",
    "from scipy import signal\n",
    "from scipy.io import wavfile\n",
    "import matplotlib.pyplot as plt\n",
    "\n",
    "from PIL import Image\n",
    "import matplotlib\n",
    "import random"
   ]
  },
  {
   "cell_type": "code",
   "execution_count": 2,
   "id": "7b23110d",
   "metadata": {},
   "outputs": [
    {
     "data": {
      "text/plain": [
       "<function tensorflow.python.eager.polymorphic_function.polymorphic_function.run_functions_eagerly(run_eagerly)>"
      ]
     },
     "execution_count": 2,
     "metadata": {},
     "output_type": "execute_result"
    }
   ],
   "source": [
    "import tensorflow as tf\n",
    "from tensorflow import keras\n",
    "from keras import layers\n",
    "\n",
    "\n",
    "tf.config.run_functions_eagerly"
   ]
  },
  {
   "cell_type": "code",
   "execution_count": 3,
   "id": "08712470",
   "metadata": {},
   "outputs": [
    {
     "name": "stderr",
     "output_type": "stream",
     "text": [
      "C:\\Users\\patry\\AppData\\Local\\Temp\\ipykernel_18340\\3981592614.py:18: RuntimeWarning: invalid value encountered in divide\n",
      "  spectrogram = (255*(gray - np.min(gray))/np.ptp(gray)).astype(int)  # [0, 255] scaled\n",
      "C:\\Users\\patry\\AppData\\Local\\Temp\\ipykernel_18340\\3981592614.py:30: RuntimeWarning: invalid value encountered in divide\n",
      "  spectrogram = (255*(gray - np.min(gray))/np.ptp(gray)).astype(int)  # [0, 255] scaled\n"
     ]
    }
   ],
   "source": [
    "# Loading of datasets\n",
    "\n",
    "spectr_train_list = pd.read_csv(\"spectr2_train_list.txt\", index_col = 0).iloc[:,0].values.tolist()\n",
    "spectr_test_list = pd.read_csv(\"spectr2_test_list.txt\", index_col = 0).iloc[:,0].values.tolist()\n",
    "\n",
    "# labels_train, labels_test\n",
    "# spectrograms_train, spectrograms_test\n",
    "\n",
    "labels_train = []\n",
    "spectrograms_train = []\n",
    "\n",
    "for path in spectr_train_list:\n",
    "    labels_train.append(path.split(\"/\")[1])\n",
    "    \n",
    "    \n",
    "    rgb = matplotlib.image.imread(path)\n",
    "    gray = np.mean(rgb, -1)\n",
    "    spectrogram = (255*(gray - np.min(gray))/np.ptp(gray)).astype(int)  # [0, 255] scaled\n",
    "\n",
    "    spectrograms_train.append(spectrogram)\n",
    "\n",
    "labels_test = []\n",
    "spectrograms_test = []\n",
    "\n",
    "for path in spectr_test_list:\n",
    "    labels_test.append(path.split(\"/\")[1])\n",
    "    \n",
    "    rgb = matplotlib.image.imread(path)\n",
    "    gray = np.mean(rgb, -1)\n",
    "    spectrogram = (255*(gray - np.min(gray))/np.ptp(gray)).astype(int)  # [0, 255] scaled\n",
    "    \n",
    "    spectrograms_test.append(spectrogram)\n"
   ]
  },
  {
   "cell_type": "code",
   "execution_count": 4,
   "id": "d8f3543a",
   "metadata": {},
   "outputs": [
    {
     "data": {
      "text/plain": [
       "['no', 'up', 'off', 'go', 'yes', 'stop', 'down', 'on', 'down']"
      ]
     },
     "execution_count": 4,
     "metadata": {},
     "output_type": "execute_result"
    }
   ],
   "source": [
    "labels_test[0:9]"
   ]
  },
  {
   "cell_type": "code",
   "execution_count": 8,
   "id": "10c1373c",
   "metadata": {},
   "outputs": [],
   "source": [
    "# preparing datasets for models\n",
    "\n",
    "dummies = pd.get_dummies(labels_train)\n",
    "y_train = tf.one_hot(dummies,10)\n",
    "\n",
    "dataset_train = tf.data.Dataset.from_tensor_slices((spectrograms_train, dummies)).shuffle(200).batch(8)\n",
    "\n",
    "####################\n",
    "\n",
    "dummies2 = pd.get_dummies(labels_test)\n",
    "y_test = tf.one_hot(dummies2, 10)\n",
    "\n",
    "dataset_test = tf.data.Dataset.from_tensor_slices((spectrograms_test, dummies2)).batch(8)\n",
    "\n",
    "#####################\n",
    "\n",
    "early_stop = tf.keras.callbacks.EarlyStopping(monitor='val_accuracy',\n",
    "                           mode='max',\n",
    "                           verbose=1,\n",
    "                           patience=4)\n"
   ]
  },
  {
   "cell_type": "markdown",
   "id": "45559272",
   "metadata": {},
   "source": [
    "# Model architecture"
   ]
  },
  {
   "cell_type": "code",
   "execution_count": 12,
   "id": "53510124",
   "metadata": {},
   "outputs": [],
   "source": [
    "# model - LSTM\n",
    "def get_model_RNN():\n",
    "  model = tf.keras.models.Sequential()\n",
    "\n",
    "  model.add(tf.keras.layers.LSTM(units = 64, return_sequences = True, input_shape=[64,64]))\n",
    "  model.add(tf.keras.layers.LSTM(units = 64, return_sequences = True))\n",
    "\n",
    "  model.add(tf.keras.layers.Dense(units = 32))\n",
    "  model.add(tf.keras.layers.Flatten())\n",
    "  model.add(tf.keras.layers.Dense(units = 10, activation='softmax'))\n",
    "\n",
    "  model.compile(loss = 'categorical_crossentropy',\n",
    "             optimizer = keras.optimizers.Adam(learning_rate = 0.0001),\n",
    "             metrics = ['accuracy'])\n",
    "  return model"
   ]
  },
  {
   "cell_type": "code",
   "execution_count": null,
   "id": "7ce7f5ac",
   "metadata": {},
   "outputs": [],
   "source": []
  },
  {
   "cell_type": "code",
   "execution_count": null,
   "id": "3f9832fa",
   "metadata": {},
   "outputs": [],
   "source": []
  },
  {
   "cell_type": "code",
   "execution_count": null,
   "id": "2a2d5151",
   "metadata": {},
   "outputs": [],
   "source": []
  },
  {
   "cell_type": "markdown",
   "id": "d2e9639e",
   "metadata": {},
   "source": [
    "# Model training & ealuation"
   ]
  },
  {
   "cell_type": "code",
   "execution_count": null,
   "id": "db88829a",
   "metadata": {},
   "outputs": [],
   "source": []
  },
  {
   "cell_type": "code",
   "execution_count": null,
   "id": "847f1986",
   "metadata": {},
   "outputs": [],
   "source": []
  },
  {
   "cell_type": "code",
   "execution_count": 63,
   "id": "37bf6c15",
   "metadata": {},
   "outputs": [
    {
     "name": "stdout",
     "output_type": "stream",
     "text": [
      "Epoch 1/50\n",
      "483/483 [==============================] - 32s 55ms/step - loss: 2.2395 - accuracy: 0.1606 - val_loss: 2.1018 - val_accuracy: 0.2665\n",
      "Epoch 2/50\n",
      "483/483 [==============================] - 25s 52ms/step - loss: 1.9484 - accuracy: 0.3098 - val_loss: 1.7458 - val_accuracy: 0.4033\n",
      "Epoch 3/50\n",
      "483/483 [==============================] - 25s 51ms/step - loss: 1.6072 - accuracy: 0.4389 - val_loss: 1.4957 - val_accuracy: 0.4822\n",
      "Epoch 4/50\n",
      "483/483 [==============================] - 24s 50ms/step - loss: 1.3887 - accuracy: 0.5109 - val_loss: 1.3376 - val_accuracy: 0.5482\n",
      "Epoch 5/50\n",
      "483/483 [==============================] - 24s 50ms/step - loss: 1.2319 - accuracy: 0.5736 - val_loss: 1.2266 - val_accuracy: 0.5769\n",
      "Epoch 6/50\n",
      "483/483 [==============================] - 25s 51ms/step - loss: 1.1074 - accuracy: 0.6197 - val_loss: 1.1362 - val_accuracy: 0.6148\n",
      "Epoch 7/50\n",
      "483/483 [==============================] - 25s 51ms/step - loss: 0.9966 - accuracy: 0.6554 - val_loss: 1.0613 - val_accuracy: 0.6558\n",
      "Epoch 8/50\n",
      "483/483 [==============================] - 25s 51ms/step - loss: 0.8962 - accuracy: 0.6868 - val_loss: 1.0221 - val_accuracy: 0.6604\n",
      "Epoch 9/50\n",
      "483/483 [==============================] - 24s 51ms/step - loss: 0.8142 - accuracy: 0.7150 - val_loss: 0.9639 - val_accuracy: 0.6891\n",
      "Epoch 10/50\n",
      "483/483 [==============================] - 25s 51ms/step - loss: 0.7390 - accuracy: 0.7451 - val_loss: 0.9352 - val_accuracy: 0.6937\n",
      "Epoch 11/50\n",
      "483/483 [==============================] - 25s 52ms/step - loss: 0.6675 - accuracy: 0.7733 - val_loss: 0.9215 - val_accuracy: 0.6973\n",
      "Epoch 12/50\n",
      "483/483 [==============================] - 25s 52ms/step - loss: 0.6034 - accuracy: 0.7922 - val_loss: 0.8997 - val_accuracy: 0.7095\n",
      "Epoch 13/50\n",
      "483/483 [==============================] - 25s 51ms/step - loss: 0.5446 - accuracy: 0.8137 - val_loss: 0.8990 - val_accuracy: 0.7206\n",
      "Epoch 14/50\n",
      "483/483 [==============================] - 25s 53ms/step - loss: 0.4878 - accuracy: 0.8427 - val_loss: 0.8906 - val_accuracy: 0.7265\n",
      "Epoch 15/50\n",
      "483/483 [==============================] - 26s 53ms/step - loss: 0.4312 - accuracy: 0.8642 - val_loss: 0.8967 - val_accuracy: 0.7475\n",
      "Epoch 16/50\n",
      "483/483 [==============================] - 26s 53ms/step - loss: 0.3815 - accuracy: 0.8772 - val_loss: 0.9176 - val_accuracy: 0.7423\n",
      "Epoch 17/50\n",
      "483/483 [==============================] - 25s 52ms/step - loss: 0.3386 - accuracy: 0.8990 - val_loss: 0.9200 - val_accuracy: 0.7446\n",
      "Epoch 17: early stopping\n"
     ]
    },
    {
     "data": {
      "text/plain": [
       "<keras.callbacks.History at 0x1ef0e304310>"
      ]
     },
     "execution_count": 63,
     "metadata": {},
     "output_type": "execute_result"
    }
   ],
   "source": [
    "# model 1 ( using spectrograms v1 - for comparison)\n",
    "\n",
    "model_RNN = get_model_RNN()\n",
    "\n",
    "model_RNN.fit(dataset_train, epochs=50,  callbacks =[early_stop], validation_data=dataset_test)"
   ]
  },
  {
   "cell_type": "code",
   "execution_count": null,
   "id": "d4a70b95",
   "metadata": {},
   "outputs": [],
   "source": []
  },
  {
   "cell_type": "code",
   "execution_count": 9,
   "id": "a6573e1c",
   "metadata": {},
   "outputs": [
    {
     "name": "stdout",
     "output_type": "stream",
     "text": [
      "Epoch 1/50\n",
      "483/483 [==============================] - 37s 66ms/step - loss: 2.3212 - accuracy: 0.1096 - val_loss: 2.3000 - val_accuracy: 0.1175\n",
      "Epoch 2/50\n",
      "483/483 [==============================] - 30s 63ms/step - loss: 2.2976 - accuracy: 0.1205 - val_loss: 2.2893 - val_accuracy: 0.1333\n",
      "Epoch 3/50\n",
      "483/483 [==============================] - 30s 62ms/step - loss: 2.2801 - accuracy: 0.1448 - val_loss: 2.2817 - val_accuracy: 0.1449\n",
      "Epoch 4/50\n",
      "483/483 [==============================] - 30s 61ms/step - loss: 2.2634 - accuracy: 0.1513 - val_loss: 2.2748 - val_accuracy: 0.1520\n",
      "Epoch 5/50\n",
      "483/483 [==============================] - 29s 60ms/step - loss: 2.2490 - accuracy: 0.1699 - val_loss: 2.2635 - val_accuracy: 0.1607\n",
      "Epoch 6/50\n",
      "483/483 [==============================] - 30s 61ms/step - loss: 2.2302 - accuracy: 0.1894 - val_loss: 2.2583 - val_accuracy: 0.1654\n",
      "Epoch 7/50\n",
      "483/483 [==============================] - 30s 63ms/step - loss: 2.2105 - accuracy: 0.1940 - val_loss: 2.2465 - val_accuracy: 0.1631\n",
      "Epoch 8/50\n",
      "483/483 [==============================] - 30s 63ms/step - loss: 2.1913 - accuracy: 0.2070 - val_loss: 2.2364 - val_accuracy: 0.1835\n",
      "Epoch 9/50\n",
      "483/483 [==============================] - 30s 62ms/step - loss: 2.1707 - accuracy: 0.2161 - val_loss: 2.2203 - val_accuracy: 0.2057\n",
      "Epoch 10/50\n",
      "483/483 [==============================] - 31s 63ms/step - loss: 2.1518 - accuracy: 0.2352 - val_loss: 2.2218 - val_accuracy: 0.1975\n",
      "Epoch 11/50\n",
      "483/483 [==============================] - 30s 63ms/step - loss: 2.1251 - accuracy: 0.2516 - val_loss: 2.2145 - val_accuracy: 0.1911\n",
      "Epoch 12/50\n",
      "483/483 [==============================] - 30s 62ms/step - loss: 2.0967 - accuracy: 0.2578 - val_loss: 2.2016 - val_accuracy: 0.2139\n",
      "Epoch 13/50\n",
      "483/483 [==============================] - 30s 63ms/step - loss: 2.0534 - accuracy: 0.2772 - val_loss: 2.1938 - val_accuracy: 0.2203\n",
      "Epoch 14/50\n",
      "483/483 [==============================] - 30s 62ms/step - loss: 2.0295 - accuracy: 0.2832 - val_loss: 2.1753 - val_accuracy: 0.2244\n",
      "Epoch 15/50\n",
      "483/483 [==============================] - 30s 61ms/step - loss: 1.9873 - accuracy: 0.3013 - val_loss: 2.1724 - val_accuracy: 0.2285\n",
      "Epoch 16/50\n",
      "483/483 [==============================] - 30s 62ms/step - loss: 1.9458 - accuracy: 0.3225 - val_loss: 2.1610 - val_accuracy: 0.2350\n",
      "Epoch 17/50\n",
      "483/483 [==============================] - 30s 63ms/step - loss: 1.9176 - accuracy: 0.3345 - val_loss: 2.1508 - val_accuracy: 0.2566\n",
      "Epoch 18/50\n",
      "483/483 [==============================] - 30s 63ms/step - loss: 1.8791 - accuracy: 0.3495 - val_loss: 2.1592 - val_accuracy: 0.2455\n",
      "Epoch 19/50\n",
      "483/483 [==============================] - 29s 61ms/step - loss: 1.8254 - accuracy: 0.3684 - val_loss: 2.1133 - val_accuracy: 0.2724\n",
      "Epoch 20/50\n",
      "483/483 [==============================] - 27s 57ms/step - loss: 1.7926 - accuracy: 0.3801 - val_loss: 2.1430 - val_accuracy: 0.2776\n",
      "Epoch 21/50\n",
      "483/483 [==============================] - 28s 59ms/step - loss: 1.7619 - accuracy: 0.4021 - val_loss: 2.1418 - val_accuracy: 0.2870\n",
      "Epoch 22/50\n",
      "483/483 [==============================] - 31s 64ms/step - loss: 1.7061 - accuracy: 0.4192 - val_loss: 2.1381 - val_accuracy: 0.2794\n",
      "Epoch 23/50\n",
      "483/483 [==============================] - 31s 64ms/step - loss: 1.6796 - accuracy: 0.4275 - val_loss: 2.1266 - val_accuracy: 0.3156\n",
      "Epoch 24/50\n",
      "483/483 [==============================] - 31s 64ms/step - loss: 1.6352 - accuracy: 0.4637 - val_loss: 2.1370 - val_accuracy: 0.3133\n",
      "Epoch 25/50\n",
      "483/483 [==============================] - 29s 61ms/step - loss: 1.5926 - accuracy: 0.4674 - val_loss: 2.1025 - val_accuracy: 0.3144\n",
      "Epoch 26/50\n",
      "483/483 [==============================] - 30s 62ms/step - loss: 1.5465 - accuracy: 0.4803 - val_loss: 2.1142 - val_accuracy: 0.3267\n",
      "Epoch 27/50\n",
      "483/483 [==============================] - 22s 45ms/step - loss: 1.5082 - accuracy: 0.5013 - val_loss: 2.1521 - val_accuracy: 0.3238\n",
      "Epoch 28/50\n",
      "483/483 [==============================] - 30s 62ms/step - loss: 1.4473 - accuracy: 0.5199 - val_loss: 2.1625 - val_accuracy: 0.3232\n",
      "Epoch 29/50\n",
      "483/483 [==============================] - 30s 62ms/step - loss: 1.4061 - accuracy: 0.5409 - val_loss: 2.1431 - val_accuracy: 0.3378\n",
      "Epoch 30/50\n",
      "483/483 [==============================] - 31s 63ms/step - loss: 1.3666 - accuracy: 0.5490 - val_loss: 2.1342 - val_accuracy: 0.3442\n",
      "Epoch 31/50\n",
      "483/483 [==============================] - 31s 63ms/step - loss: 1.2990 - accuracy: 0.5738 - val_loss: 2.1552 - val_accuracy: 0.3542\n",
      "Epoch 32/50\n",
      "483/483 [==============================] - 30s 61ms/step - loss: 1.2604 - accuracy: 0.5925 - val_loss: 2.1763 - val_accuracy: 0.3647\n",
      "Epoch 33/50\n",
      "483/483 [==============================] - 30s 63ms/step - loss: 1.2333 - accuracy: 0.6005 - val_loss: 2.1653 - val_accuracy: 0.3717\n",
      "Epoch 34/50\n",
      "483/483 [==============================] - 30s 63ms/step - loss: 1.2005 - accuracy: 0.6109 - val_loss: 2.2019 - val_accuracy: 0.3507\n",
      "Epoch 35/50\n",
      "483/483 [==============================] - 29s 60ms/step - loss: 1.1335 - accuracy: 0.6417 - val_loss: 2.1586 - val_accuracy: 0.3857\n",
      "Epoch 36/50\n",
      "483/483 [==============================] - 30s 63ms/step - loss: 1.0951 - accuracy: 0.6492 - val_loss: 2.1608 - val_accuracy: 0.3875\n",
      "Epoch 37/50\n",
      "483/483 [==============================] - 29s 61ms/step - loss: 1.0242 - accuracy: 0.6731 - val_loss: 2.2157 - val_accuracy: 0.3898\n",
      "Epoch 38/50\n",
      "483/483 [==============================] - 30s 61ms/step - loss: 1.0056 - accuracy: 0.6847 - val_loss: 2.2164 - val_accuracy: 0.4062\n",
      "Epoch 39/50\n",
      "483/483 [==============================] - 30s 62ms/step - loss: 0.9362 - accuracy: 0.7124 - val_loss: 2.1835 - val_accuracy: 0.4138\n",
      "Epoch 40/50\n",
      "483/483 [==============================] - 31s 64ms/step - loss: 0.8858 - accuracy: 0.7264 - val_loss: 2.2344 - val_accuracy: 0.4091\n",
      "Epoch 41/50\n",
      "483/483 [==============================] - 30s 63ms/step - loss: 0.8601 - accuracy: 0.7415 - val_loss: 2.2342 - val_accuracy: 0.4325\n",
      "Epoch 42/50\n",
      "483/483 [==============================] - 30s 63ms/step - loss: 0.8083 - accuracy: 0.7549 - val_loss: 2.2790 - val_accuracy: 0.4284\n",
      "Epoch 43/50\n",
      "483/483 [==============================] - 29s 61ms/step - loss: 0.7903 - accuracy: 0.7622 - val_loss: 2.2706 - val_accuracy: 0.4342\n",
      "Epoch 44/50\n",
      "483/483 [==============================] - 28s 58ms/step - loss: 0.7471 - accuracy: 0.7772 - val_loss: 2.2935 - val_accuracy: 0.4413\n",
      "Epoch 45/50\n",
      "483/483 [==============================] - 28s 58ms/step - loss: 0.7043 - accuracy: 0.7946 - val_loss: 2.3920 - val_accuracy: 0.4319\n",
      "Epoch 46/50\n",
      "483/483 [==============================] - 28s 57ms/step - loss: 0.7103 - accuracy: 0.7894 - val_loss: 2.3694 - val_accuracy: 0.4448\n",
      "Epoch 47/50\n",
      "483/483 [==============================] - 28s 57ms/step - loss: 0.6582 - accuracy: 0.8096 - val_loss: 2.3896 - val_accuracy: 0.4471\n",
      "Epoch 48/50\n",
      "483/483 [==============================] - 30s 62ms/step - loss: 0.6192 - accuracy: 0.8308 - val_loss: 2.3695 - val_accuracy: 0.4524\n",
      "Epoch 49/50\n",
      "483/483 [==============================] - 29s 59ms/step - loss: 0.6095 - accuracy: 0.8207 - val_loss: 2.4676 - val_accuracy: 0.4413\n",
      "Epoch 50/50\n",
      "483/483 [==============================] - 28s 59ms/step - loss: 0.5387 - accuracy: 0.8497 - val_loss: 2.4395 - val_accuracy: 0.4553\n"
     ]
    },
    {
     "data": {
      "text/plain": [
       "<keras.callbacks.History at 0x221ad98de40>"
      ]
     },
     "execution_count": 9,
     "metadata": {},
     "output_type": "execute_result"
    }
   ],
   "source": [
    "# model 1 - using spectrograms v2 (after logarithmic scaling)\n",
    "\n",
    "model_RNN = get_model_RNN()\n",
    "\n",
    "model_RNN.fit(dataset_train, epochs=50,  callbacks =[early_stop], validation_data=dataset_test)"
   ]
  },
  {
   "cell_type": "markdown",
   "id": "a46481e1",
   "metadata": {},
   "source": [
    "Accuracy: 0.45\\%"
   ]
  },
  {
   "cell_type": "markdown",
   "id": "3914e24f",
   "metadata": {},
   "source": [
    "# Model 2 - more robust"
   ]
  },
  {
   "cell_type": "code",
   "execution_count": 14,
   "id": "3bd9a798",
   "metadata": {},
   "outputs": [],
   "source": [
    "# model - LSTM\n",
    "def get_model_RNN2():\n",
    "  model = tf.keras.models.Sequential()\n",
    "\n",
    "  model.add(tf.keras.layers.LSTM(units = 128, return_sequences = True, input_shape=[64,64]))\n",
    "  model.add(tf.keras.layers.LSTM(units = 128, return_sequences = True))\n",
    "\n",
    "  model.add(tf.keras.layers.Dense(units = 64))\n",
    "  model.add(tf.keras.layers.Flatten())\n",
    "  model.add(tf.keras.layers.Dense(units = 10, activation='softmax'))\n",
    "\n",
    "  model.compile(loss = 'categorical_crossentropy',\n",
    "             optimizer = keras.optimizers.Adam(learning_rate = 0.0001),\n",
    "             metrics = ['accuracy'])\n",
    "  return model"
   ]
  },
  {
   "cell_type": "code",
   "execution_count": 65,
   "id": "60c03e96",
   "metadata": {},
   "outputs": [
    {
     "name": "stdout",
     "output_type": "stream",
     "text": [
      "Epoch 1/50\n",
      "483/483 [==============================] - 49s 91ms/step - loss: 2.1186 - accuracy: 0.2306 - val_loss: 1.7894 - val_accuracy: 0.3892\n",
      "Epoch 2/50\n",
      "483/483 [==============================] - 43s 90ms/step - loss: 1.6071 - accuracy: 0.4293 - val_loss: 1.4027 - val_accuracy: 0.5237\n",
      "Epoch 3/50\n",
      "483/483 [==============================] - 45s 92ms/step - loss: 1.2763 - accuracy: 0.5459 - val_loss: 1.1683 - val_accuracy: 0.5891\n",
      "Epoch 4/50\n",
      "483/483 [==============================] - 45s 93ms/step - loss: 1.0340 - accuracy: 0.6324 - val_loss: 1.0353 - val_accuracy: 0.6452\n",
      "Epoch 5/50\n",
      "483/483 [==============================] - 44s 91ms/step - loss: 0.8422 - accuracy: 0.7000 - val_loss: 0.9232 - val_accuracy: 0.6739\n",
      "Epoch 6/50\n",
      "483/483 [==============================] - 45s 93ms/step - loss: 0.6917 - accuracy: 0.7518 - val_loss: 0.8720 - val_accuracy: 0.7089\n",
      "Epoch 7/50\n",
      "483/483 [==============================] - 44s 90ms/step - loss: 0.5552 - accuracy: 0.8070 - val_loss: 0.8621 - val_accuracy: 0.7247\n",
      "Epoch 8/50\n",
      "483/483 [==============================] - 44s 92ms/step - loss: 0.4317 - accuracy: 0.8573 - val_loss: 0.8546 - val_accuracy: 0.7428\n",
      "Epoch 9/50\n",
      "483/483 [==============================] - 45s 92ms/step - loss: 0.3329 - accuracy: 0.8907 - val_loss: 0.8647 - val_accuracy: 0.7563\n",
      "Epoch 10/50\n",
      "483/483 [==============================] - 44s 92ms/step - loss: 0.2471 - accuracy: 0.9280 - val_loss: 0.8718 - val_accuracy: 0.7680\n",
      "Epoch 11/50\n",
      "483/483 [==============================] - 44s 90ms/step - loss: 0.2024 - accuracy: 0.9373 - val_loss: 0.9084 - val_accuracy: 0.7820\n",
      "Epoch 11: early stopping\n"
     ]
    },
    {
     "data": {
      "text/plain": [
       "<keras.callbacks.History at 0x1ef1efad0f0>"
      ]
     },
     "execution_count": 65,
     "metadata": {},
     "output_type": "execute_result"
    }
   ],
   "source": [
    "# model 2\n",
    "\n",
    "model_RNN2 = get_model_RNN2()\n",
    "\n",
    "model_RNN2.fit(dataset_train, epochs=50,  callbacks =[early_stop], validation_data=dataset_test)"
   ]
  },
  {
   "cell_type": "code",
   "execution_count": 67,
   "id": "e5fd6269",
   "metadata": {},
   "outputs": [
    {
     "name": "stdout",
     "output_type": "stream",
     "text": [
      "Epoch 1/20\n",
      "483/483 [==============================] - 44s 91ms/step - loss: 0.1433 - accuracy: 0.9617 - val_loss: 0.9758 - val_accuracy: 0.7797\n",
      "Epoch 2/20\n",
      "483/483 [==============================] - 44s 90ms/step - loss: 0.0965 - accuracy: 0.9744 - val_loss: 1.1706 - val_accuracy: 0.7621\n",
      "Epoch 3/20\n",
      "483/483 [==============================] - 45s 93ms/step - loss: 0.0722 - accuracy: 0.9821 - val_loss: 1.1034 - val_accuracy: 0.7855\n",
      "Epoch 4/20\n",
      "483/483 [==============================] - 43s 89ms/step - loss: 0.0773 - accuracy: 0.9790 - val_loss: 1.0642 - val_accuracy: 0.7914\n",
      "Epoch 5/20\n",
      "483/483 [==============================] - 43s 89ms/step - loss: 0.0562 - accuracy: 0.9876 - val_loss: 1.1104 - val_accuracy: 0.7943\n",
      "Epoch 6/20\n",
      "483/483 [==============================] - 44s 90ms/step - loss: 0.0474 - accuracy: 0.9896 - val_loss: 1.1606 - val_accuracy: 0.7995\n",
      "Epoch 6: early stopping\n"
     ]
    },
    {
     "data": {
      "text/plain": [
       "<keras.callbacks.History at 0x1ef19e0e4d0>"
      ]
     },
     "execution_count": 67,
     "metadata": {},
     "output_type": "execute_result"
    }
   ],
   "source": [
    "model_RNN2.fit(dataset_train, epochs=20,  callbacks =[early_stop], validation_data=dataset_test)"
   ]
  },
  {
   "cell_type": "code",
   "execution_count": 15,
   "id": "3eae6db1",
   "metadata": {},
   "outputs": [
    {
     "name": "stdout",
     "output_type": "stream",
     "text": [
      "Epoch 1/50\n",
      "483/483 [==============================] - 24s 45ms/step - loss: 2.3235 - accuracy: 0.1016 - val_loss: 2.2914 - val_accuracy: 0.1257\n",
      "Epoch 2/50\n",
      "483/483 [==============================] - 22s 45ms/step - loss: 2.2832 - accuracy: 0.1438 - val_loss: 2.2652 - val_accuracy: 0.1613\n",
      "Epoch 3/50\n",
      "483/483 [==============================] - 22s 45ms/step - loss: 2.2584 - accuracy: 0.1653 - val_loss: 2.2481 - val_accuracy: 0.1730\n",
      "Epoch 4/50\n",
      "483/483 [==============================] - 21s 44ms/step - loss: 2.2317 - accuracy: 0.1889 - val_loss: 2.2363 - val_accuracy: 0.1882\n",
      "Epoch 5/50\n",
      "483/483 [==============================] - 22s 45ms/step - loss: 2.1941 - accuracy: 0.2041 - val_loss: 2.2147 - val_accuracy: 0.1975\n",
      "Epoch 6/50\n",
      "483/483 [==============================] - 22s 46ms/step - loss: 2.1561 - accuracy: 0.2290 - val_loss: 2.2090 - val_accuracy: 0.2016\n",
      "Epoch 7/50\n",
      "483/483 [==============================] - 22s 45ms/step - loss: 2.0906 - accuracy: 0.2562 - val_loss: 2.1748 - val_accuracy: 0.2221\n",
      "Epoch 8/50\n",
      "483/483 [==============================] - 22s 46ms/step - loss: 2.0415 - accuracy: 0.2832 - val_loss: 2.1584 - val_accuracy: 0.2338\n",
      "Epoch 9/50\n",
      "483/483 [==============================] - 22s 45ms/step - loss: 2.0021 - accuracy: 0.2943 - val_loss: 2.1580 - val_accuracy: 0.2338\n",
      "Epoch 10/50\n",
      "483/483 [==============================] - 22s 46ms/step - loss: 1.9387 - accuracy: 0.3228 - val_loss: 2.1112 - val_accuracy: 0.2724\n",
      "Epoch 11/50\n",
      "483/483 [==============================] - 22s 46ms/step - loss: 1.8644 - accuracy: 0.3547 - val_loss: 2.1014 - val_accuracy: 0.2729\n",
      "Epoch 12/50\n",
      "483/483 [==============================] - 22s 45ms/step - loss: 1.7795 - accuracy: 0.3819 - val_loss: 2.0972 - val_accuracy: 0.2916\n",
      "Epoch 13/50\n",
      "483/483 [==============================] - 22s 45ms/step - loss: 1.7284 - accuracy: 0.4054 - val_loss: 2.0528 - val_accuracy: 0.3016\n",
      "Epoch 14/50\n",
      "483/483 [==============================] - 22s 45ms/step - loss: 1.6293 - accuracy: 0.4435 - val_loss: 2.0343 - val_accuracy: 0.3244\n",
      "Epoch 15/50\n",
      "483/483 [==============================] - 22s 45ms/step - loss: 1.5326 - accuracy: 0.4798 - val_loss: 2.0269 - val_accuracy: 0.3466\n",
      "Epoch 16/50\n",
      "483/483 [==============================] - 21s 44ms/step - loss: 1.4767 - accuracy: 0.5036 - val_loss: 2.0327 - val_accuracy: 0.3577\n",
      "Epoch 17/50\n",
      "483/483 [==============================] - 21s 45ms/step - loss: 1.3511 - accuracy: 0.5593 - val_loss: 1.9699 - val_accuracy: 0.3781\n",
      "Epoch 18/50\n",
      "483/483 [==============================] - 22s 45ms/step - loss: 1.2445 - accuracy: 0.6013 - val_loss: 1.9967 - val_accuracy: 0.4004\n",
      "Epoch 19/50\n",
      "483/483 [==============================] - 22s 46ms/step - loss: 1.1446 - accuracy: 0.6345 - val_loss: 1.9835 - val_accuracy: 0.4150\n",
      "Epoch 20/50\n",
      "483/483 [==============================] - 22s 45ms/step - loss: 1.0548 - accuracy: 0.6630 - val_loss: 1.9555 - val_accuracy: 0.4372\n",
      "Epoch 21/50\n",
      "483/483 [==============================] - 21s 44ms/step - loss: 0.9769 - accuracy: 0.6899 - val_loss: 1.9847 - val_accuracy: 0.4436\n",
      "Epoch 22/50\n",
      "483/483 [==============================] - 21s 44ms/step - loss: 0.8969 - accuracy: 0.7187 - val_loss: 2.0417 - val_accuracy: 0.4506\n",
      "Epoch 23/50\n",
      "483/483 [==============================] - 21s 44ms/step - loss: 0.7876 - accuracy: 0.7560 - val_loss: 2.0425 - val_accuracy: 0.4611\n",
      "Epoch 24/50\n",
      "483/483 [==============================] - 21s 44ms/step - loss: 0.6836 - accuracy: 0.8016 - val_loss: 2.0285 - val_accuracy: 0.4781\n",
      "Epoch 25/50\n",
      "483/483 [==============================] - 21s 44ms/step - loss: 0.6196 - accuracy: 0.8106 - val_loss: 2.1124 - val_accuracy: 0.4845\n",
      "Epoch 26/50\n",
      "483/483 [==============================] - 21s 44ms/step - loss: 0.5387 - accuracy: 0.8459 - val_loss: 2.0857 - val_accuracy: 0.5126\n",
      "Epoch 27/50\n",
      "483/483 [==============================] - 21s 44ms/step - loss: 0.4538 - accuracy: 0.8788 - val_loss: 2.1875 - val_accuracy: 0.5050\n",
      "Epoch 28/50\n",
      "483/483 [==============================] - 22s 46ms/step - loss: 0.3992 - accuracy: 0.8933 - val_loss: 2.2127 - val_accuracy: 0.4991\n",
      "Epoch 29/50\n",
      "483/483 [==============================] - 22s 45ms/step - loss: 0.3557 - accuracy: 0.9054 - val_loss: 2.2775 - val_accuracy: 0.5126\n",
      "Epoch 30/50\n",
      "483/483 [==============================] - 22s 45ms/step - loss: 0.3396 - accuracy: 0.9065 - val_loss: 2.3150 - val_accuracy: 0.5114\n",
      "Epoch 30: early stopping\n"
     ]
    },
    {
     "data": {
      "text/plain": [
       "<keras.callbacks.History at 0x221c6f0c4c0>"
      ]
     },
     "execution_count": 15,
     "metadata": {},
     "output_type": "execute_result"
    }
   ],
   "source": [
    "# model 2 more robust - using spectrograms v2 (after logarithmic scaling)\n",
    "\n",
    "# model 2\n",
    "\n",
    "model_RNN2 = get_model_RNN2()\n",
    "\n",
    "model_RNN2.fit(dataset_train, epochs=50,  callbacks =[early_stop], validation_data=dataset_test)\n"
   ]
  },
  {
   "cell_type": "markdown",
   "id": "55616d59",
   "metadata": {},
   "source": [
    "Accuracy: 0.51\\%"
   ]
  },
  {
   "cell_type": "markdown",
   "id": "eabffbf8",
   "metadata": {},
   "source": [
    "# (old) Conclusions from training on old spectrograms:\n",
    "\n",
    "\n",
    "The first model obtained **74\\% accuracy** on validation data set, whereas the second model obtained almost **80\\% accuracy** with the same spectrograms, optimizer and learning rate settings. \n",
    "\n",
    "Reminder: it was a 10 class classification problem with balanced classes.\n",
    "\n",
    "Possible ideas to train better version of the final model:\n",
    "\n",
    "- decreasing learning rate, as models started to overfit ( extended learning process)\n",
    "- use more layers and units within each layer ( more robust models)\n",
    "- prepare other version of spectrograms (better data means better model)"
   ]
  },
  {
   "cell_type": "markdown",
   "id": "010247ba",
   "metadata": {},
   "source": [
    "# Conclusions from training on new spectrograms ( v2):\n",
    "\n",
    "\n",
    "The first model obtained **45\\% accuracy** on validation data set, whereas the second model obtained almost **52\\% accuracy** with the same spectrograms, optimizer and learning rate settings. \n",
    "\n",
    "Having considered this modification to the machine learning pipeline:\n",
    "\n",
    "- prepare other version of spectrograms (better data means better model)\n",
    "\n",
    "\n",
    "The models' training time was considerably longer, so the modification consisting of **creation of new version of spectrograms** -- preserving more information, **was**, in this case, **leading to worse results**. Perhaps it was caused by too much background noise in the audio files and the old version of spectrograms was sufficient."
   ]
  }
 ],
 "metadata": {
  "kernelspec": {
   "display_name": "Python 3 (ipykernel)",
   "language": "python",
   "name": "python3"
  },
  "language_info": {
   "codemirror_mode": {
    "name": "ipython",
    "version": 3
   },
   "file_extension": ".py",
   "mimetype": "text/x-python",
   "name": "python",
   "nbconvert_exporter": "python",
   "pygments_lexer": "ipython3",
   "version": "3.10.8"
  }
 },
 "nbformat": 4,
 "nbformat_minor": 5
}
